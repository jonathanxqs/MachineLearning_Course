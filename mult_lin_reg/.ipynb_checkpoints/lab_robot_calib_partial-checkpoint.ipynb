{
 "cells": [
  {
   "cell_type": "markdown",
   "metadata": {},
   "source": [
    "# Multiple Linear Regression for Robot Calibration\n",
    "\n",
    "In this lab, we will illustrate the use of multiple linear regression for calibrating robot control.  In addition to reviewing the concepts in the [multiple linear regression demo](./glucose.ipynb), you will see how to use multiple linear regression for time series data -- an important concept in dynamical systems such as robotics.\n",
    "\n",
    "The robot data for the lab is taken generously from the TU Dortmund's [Multiple Link Robot Arms Project](http://www.rst.e-technik.tu-dortmund.de/cms/en/research/robotics/TUDOR_engl/index.html).  As part of the project, they have created an excellent public dataset: [MERIt](http://www.rst.e-technik.tu-dortmund.de/cms/en/research/robotics/TUDOR_engl/index.html#h3MERIt) -- A Multi-Elastic-Link Robot Identification Dataset that can be used for understanding robot dynamics.  The data is from a three link robot:\n",
    "\n",
    "<img src=\"http://www.rst.e-technik.tu-dortmund.de/cms/Medienpool/redaktionelleBilder/Forschung/Schwerpunkte/TUDOR_engl/TUDORBild.png\" height=\"200\" width=\"200\">\n",
    "\n",
    "\n",
    "We will focus on predicting the current draw into one of the joints as a function of the robot motion.  Such models are essential in predicting the overall robot power consumption.  Several other models could also be used."
   ]
  },
  {
   "cell_type": "markdown",
   "metadata": {},
   "source": [
    "## Load and Visualize the Data\n",
    "First, import the modules we will need."
   ]
  },
  {
   "cell_type": "code",
   "execution_count": 1,
   "metadata": {},
   "outputs": [],
   "source": [
    "import pandas as pd\n",
    "import numpy as np\n",
    "import matplotlib\n",
    "import matplotlib.pyplot as plt\n",
    "from pandas import DataFrame \n",
    "\n",
    "%matplotlib inline"
   ]
  },
  {
   "cell_type": "markdown",
   "metadata": {},
   "source": [
    "The full MERIt dataset can be obtained from the [MERIt site](http://www.rst.e-technik.tu-dortmund.de/cms/en/research/robotics/TUDOR_engl/index.html#h3MERIt).  But, this dataset is large.  Included in this repository are two of the ten experiments.  Each experiments corresonds to 80 seconds of recorded motion.  We will use the following files:\n",
    "* [exp1.csv](./exp1.csv) for training\n",
    "* [exp2.csv](./exp2.csv) for test\n",
    "\n",
    "Below, I have supplied the column headers in the `names` array.  Use the `pd.read_csv` command to load the data.  Use the `index_col` option to specify that column 0 (the one with time) is the *index* column.  You can review [simple linear regression demo](../simp_lin_reg/auto_mpg.ipynb) for examples of using the `pd.read_csv` command."
   ]
  },
  {
   "cell_type": "code",
   "execution_count": 2,
   "metadata": {},
   "outputs": [],
   "source": [
    "names =[\n",
    "    't',                                  # Time (secs)\n",
    "    'q1', 'q2', 'q3',                     # Joint angle   (rads)\n",
    "    'dq1', 'dq2', 'dq3',                  # Joint velocity (rads/sec)\n",
    "    'I1', 'I2', 'I3',                     # Motor current (A)\n",
    "    'eps21', 'eps22', 'eps31', 'eps32',   # Strain gauge measurements ($\\mu$m /m )\n",
    "    'ddq1', 'ddq2', 'ddq3'                # Joint accelerations (rad/sec^2)\n",
    "]\n",
    "# TODO \n",
    "\n",
    "df = pd.read_csv('./exp1.csv',\n",
    "                 header=None,names=names,na_values='?')\n",
    "# df = pd.read_csv(...)\n",
    "len_x = df.shape[0]"
   ]
  },
  {
   "cell_type": "markdown",
   "metadata": {},
   "source": [
    "Print the first six lines of the pandas dataframe and manually check that they match the first rows of the csv file."
   ]
  },
  {
   "cell_type": "code",
   "execution_count": 3,
   "metadata": {},
   "outputs": [
    {
     "data": {
      "text/html": [
       "<div>\n",
       "<style>\n",
       "    .dataframe thead tr:only-child th {\n",
       "        text-align: right;\n",
       "    }\n",
       "\n",
       "    .dataframe thead th {\n",
       "        text-align: left;\n",
       "    }\n",
       "\n",
       "    .dataframe tbody tr th {\n",
       "        vertical-align: top;\n",
       "    }\n",
       "</style>\n",
       "<table border=\"1\" class=\"dataframe\">\n",
       "  <thead>\n",
       "    <tr style=\"text-align: right;\">\n",
       "      <th></th>\n",
       "      <th>t</th>\n",
       "      <th>q1</th>\n",
       "      <th>q2</th>\n",
       "      <th>q3</th>\n",
       "      <th>dq1</th>\n",
       "      <th>dq2</th>\n",
       "      <th>dq3</th>\n",
       "      <th>I1</th>\n",
       "      <th>I2</th>\n",
       "      <th>I3</th>\n",
       "      <th>eps21</th>\n",
       "      <th>eps22</th>\n",
       "      <th>eps31</th>\n",
       "      <th>eps32</th>\n",
       "      <th>ddq1</th>\n",
       "      <th>ddq2</th>\n",
       "      <th>ddq3</th>\n",
       "    </tr>\n",
       "  </thead>\n",
       "  <tbody>\n",
       "    <tr>\n",
       "      <th>0</th>\n",
       "      <td>0.00</td>\n",
       "      <td>-0.000007</td>\n",
       "      <td>2.4958</td>\n",
       "      <td>-1.1345</td>\n",
       "      <td>-7.880000e-21</td>\n",
       "      <td>-4.940656e-321</td>\n",
       "      <td>3.910000e-29</td>\n",
       "      <td>-0.081623</td>\n",
       "      <td>-0.40812</td>\n",
       "      <td>-0.30609</td>\n",
       "      <td>-269.25</td>\n",
       "      <td>-113.20</td>\n",
       "      <td>3.5918</td>\n",
       "      <td>1.57860</td>\n",
       "      <td>-9.900000e-19</td>\n",
       "      <td>-6.210306e-319</td>\n",
       "      <td>4.920000e-27</td>\n",
       "    </tr>\n",
       "    <tr>\n",
       "      <th>1</th>\n",
       "      <td>0.01</td>\n",
       "      <td>-0.000007</td>\n",
       "      <td>2.4958</td>\n",
       "      <td>-1.1345</td>\n",
       "      <td>-2.260000e-21</td>\n",
       "      <td>-4.940656e-321</td>\n",
       "      <td>2.630000e-31</td>\n",
       "      <td>-0.037411</td>\n",
       "      <td>-0.37241</td>\n",
       "      <td>-0.26698</td>\n",
       "      <td>-270.91</td>\n",
       "      <td>-116.05</td>\n",
       "      <td>1.4585</td>\n",
       "      <td>-1.73980</td>\n",
       "      <td>4.250000e-19</td>\n",
       "      <td>-1.766878e-319</td>\n",
       "      <td>-1.380000e-27</td>\n",
       "    </tr>\n",
       "    <tr>\n",
       "      <th>2</th>\n",
       "      <td>0.02</td>\n",
       "      <td>-0.000007</td>\n",
       "      <td>2.4958</td>\n",
       "      <td>-1.1345</td>\n",
       "      <td>-6.470000e-22</td>\n",
       "      <td>-4.940656e-321</td>\n",
       "      <td>1.760000e-33</td>\n",
       "      <td>-0.066319</td>\n",
       "      <td>-0.40302</td>\n",
       "      <td>-0.31459</td>\n",
       "      <td>-269.25</td>\n",
       "      <td>-112.97</td>\n",
       "      <td>3.5918</td>\n",
       "      <td>0.86753</td>\n",
       "      <td>3.230000e-19</td>\n",
       "      <td>-4.990557e-320</td>\n",
       "      <td>-4.120000e-28</td>\n",
       "    </tr>\n",
       "    <tr>\n",
       "      <th>3</th>\n",
       "      <td>0.03</td>\n",
       "      <td>-0.000007</td>\n",
       "      <td>2.4958</td>\n",
       "      <td>-1.1345</td>\n",
       "      <td>-1.850000e-22</td>\n",
       "      <td>-4.940656e-321</td>\n",
       "      <td>1.180000e-35</td>\n",
       "      <td>-0.068020</td>\n",
       "      <td>-0.43703</td>\n",
       "      <td>-0.28398</td>\n",
       "      <td>-269.97</td>\n",
       "      <td>-114.39</td>\n",
       "      <td>1.6956</td>\n",
       "      <td>-0.08059</td>\n",
       "      <td>1.500000e-19</td>\n",
       "      <td>-1.394253e-320</td>\n",
       "      <td>-1.170000e-28</td>\n",
       "    </tr>\n",
       "    <tr>\n",
       "      <th>4</th>\n",
       "      <td>0.04</td>\n",
       "      <td>-0.000007</td>\n",
       "      <td>2.4958</td>\n",
       "      <td>-1.1345</td>\n",
       "      <td>-5.310000e-23</td>\n",
       "      <td>-4.940656e-321</td>\n",
       "      <td>-5.270900e-03</td>\n",
       "      <td>-0.052715</td>\n",
       "      <td>-0.40472</td>\n",
       "      <td>-0.30779</td>\n",
       "      <td>-269.97</td>\n",
       "      <td>-114.15</td>\n",
       "      <td>3.1177</td>\n",
       "      <td>0.86753</td>\n",
       "      <td>5.930000e-20</td>\n",
       "      <td>-3.581976e-321</td>\n",
       "      <td>-3.770800e-01</td>\n",
       "    </tr>\n",
       "    <tr>\n",
       "      <th>5</th>\n",
       "      <td>0.05</td>\n",
       "      <td>-0.000007</td>\n",
       "      <td>2.4958</td>\n",
       "      <td>-1.1345</td>\n",
       "      <td>-1.520000e-23</td>\n",
       "      <td>-4.940656e-321</td>\n",
       "      <td>3.252600e-04</td>\n",
       "      <td>-0.088425</td>\n",
       "      <td>-0.42342</td>\n",
       "      <td>-0.29589</td>\n",
       "      <td>-269.25</td>\n",
       "      <td>-114.15</td>\n",
       "      <td>2.4066</td>\n",
       "      <td>-0.08059</td>\n",
       "      <td>2.160000e-20</td>\n",
       "      <td>-1.141292e-321</td>\n",
       "      <td>2.930300e-01</td>\n",
       "    </tr>\n",
       "  </tbody>\n",
       "</table>\n",
       "</div>"
      ],
      "text/plain": [
       "      t        q1      q2      q3           dq1            dq2           dq3  \\\n",
       "0  0.00 -0.000007  2.4958 -1.1345 -7.880000e-21 -4.940656e-321  3.910000e-29   \n",
       "1  0.01 -0.000007  2.4958 -1.1345 -2.260000e-21 -4.940656e-321  2.630000e-31   \n",
       "2  0.02 -0.000007  2.4958 -1.1345 -6.470000e-22 -4.940656e-321  1.760000e-33   \n",
       "3  0.03 -0.000007  2.4958 -1.1345 -1.850000e-22 -4.940656e-321  1.180000e-35   \n",
       "4  0.04 -0.000007  2.4958 -1.1345 -5.310000e-23 -4.940656e-321 -5.270900e-03   \n",
       "5  0.05 -0.000007  2.4958 -1.1345 -1.520000e-23 -4.940656e-321  3.252600e-04   \n",
       "\n",
       "         I1       I2       I3   eps21   eps22   eps31    eps32          ddq1  \\\n",
       "0 -0.081623 -0.40812 -0.30609 -269.25 -113.20  3.5918  1.57860 -9.900000e-19   \n",
       "1 -0.037411 -0.37241 -0.26698 -270.91 -116.05  1.4585 -1.73980  4.250000e-19   \n",
       "2 -0.066319 -0.40302 -0.31459 -269.25 -112.97  3.5918  0.86753  3.230000e-19   \n",
       "3 -0.068020 -0.43703 -0.28398 -269.97 -114.39  1.6956 -0.08059  1.500000e-19   \n",
       "4 -0.052715 -0.40472 -0.30779 -269.97 -114.15  3.1177  0.86753  5.930000e-20   \n",
       "5 -0.088425 -0.42342 -0.29589 -269.25 -114.15  2.4066 -0.08059  2.160000e-20   \n",
       "\n",
       "            ddq2          ddq3  \n",
       "0 -6.210306e-319  4.920000e-27  \n",
       "1 -1.766878e-319 -1.380000e-27  \n",
       "2 -4.990557e-320 -4.120000e-28  \n",
       "3 -1.394253e-320 -1.170000e-28  \n",
       "4 -3.581976e-321 -3.770800e-01  \n",
       "5 -1.141292e-321  2.930300e-01  "
      ]
     },
     "execution_count": 3,
     "metadata": {},
     "output_type": "execute_result"
    }
   ],
   "source": [
    "\n",
    "df.head(6)"
   ]
  },
  {
   "cell_type": "markdown",
   "metadata": {},
   "source": [
    "From the dataframe `df`, extract the time indices into a vector `t` and extract `I2`, the current into the second joint.  Place the current in a vector `y` and plot `y` vs. `t`.  "
   ]
  },
  {
   "cell_type": "code",
   "execution_count": 4,
   "metadata": {},
   "outputs": [
    {
     "data": {
      "image/png": "[encoded data removed]",
      "text/plain": [
       "<matplotlib.figure.Figure at 0x19b4662b470>"
      ]
     },
     "metadata": {},
     "output_type": "display_data"
    }
   ],
   "source": [
    "# TODO\n",
    "\n",
    "xstr = 't'\n",
    "t = np.array(df[xstr])\n",
    "y = np.array(df['I2'])\n",
    "\n",
    "# y = ...\n",
    "# t = ...\n",
    "\n",
    "plt.plot(t,y,'o')\n",
    "plt.xlabel(xstr)\n",
    "plt.ylabel('y')\n",
    "plt.grid(True)\n",
    "\n",
    "# plt.plot(...)"
   ]
  },
  {
   "cell_type": "markdown",
   "metadata": {},
   "source": [
    "Use all the samples from the experiment 1 dataset to create the training data:\n",
    "* `ytrain`:  A vector of all the samples from the `I2` column\n",
    "* `Xtrain`:  A matrix of the data with the columns:  `['q2','dq2','eps21', 'eps22', 'eps31', 'eps32','ddq2']`"
   ]
  },
  {
   "cell_type": "code",
   "execution_count": 5,
   "metadata": {},
   "outputs": [],
   "source": [
    "# TODO\n",
    "\n",
    "ytrain =  y\n",
    "Xtrain = df.as_matrix(columns=['q2','dq2','eps21', 'eps22', 'eps31', 'eps32','ddq2']) \n",
    "\n",
    "\n"
   ]
  },
  {
   "cell_type": "markdown",
   "metadata": {},
   "source": [
    "## Fit a Linear Model\n",
    "Use the `sklearn.linear_model` module to create a `LinearRegression` class `regr`."
   ]
  },
  {
   "cell_type": "code",
   "execution_count": 6,
   "metadata": {},
   "outputs": [],
   "source": [
    "from sklearn import linear_model\n",
    "\n",
    "# Create linear regression object\n",
    "# TODO\n",
    "# regr = ...\n",
    "\n",
    "regr = linear_model.LinearRegression()\n"
   ]
  },
  {
   "cell_type": "markdown",
   "metadata": {},
   "source": [
    "Train the model on the training data using the `regr.fit(...)` method."
   ]
  },
  {
   "cell_type": "code",
   "execution_count": 7,
   "metadata": {},
   "outputs": [
    {
     "data": {
      "text/plain": [
       "array([ 0.06255018,  0.20584896,  0.00118784,  0.00044457, -0.0031362 ,\n",
       "        0.00603298,  0.05487097])"
      ]
     },
     "execution_count": 7,
     "metadata": {},
     "output_type": "execute_result"
    }
   ],
   "source": [
    "# TODO\n",
    "regr.fit(Xtrain,ytrain)\n",
    "regr.coef_"
   ]
  },
  {
   "cell_type": "markdown",
   "metadata": {},
   "source": [
    "Plot the predicted and actual current `I2` over time on the same plot.  Create a legend for the plot."
   ]
  },
  {
   "cell_type": "code",
   "execution_count": 8,
   "metadata": {},
   "outputs": [],
   "source": [
    "# TODO\n",
    "y_tr_pred = regr.predict(Xtrain)\n"
   ]
  },
  {
   "cell_type": "markdown",
   "metadata": {},
   "source": [
    "Measure the normalized RSS given by \n",
    "$$\n",
    "    \\frac{RSS}{n s^2_y}.\n",
    "$$"
   ]
  },
  {
   "cell_type": "code",
   "execution_count": 9,
   "metadata": {},
   "outputs": [
    {
     "name": "stdout",
     "output_type": "stream",
     "text": [
      "RSS per sample = 0.095833\n",
      "R^2 =            0.904167\n"
     ]
    }
   ],
   "source": [
    "# TODO\n",
    "# RSS_train = ...\n",
    "RSS_tr = np.mean((y_tr_pred-ytrain)**2)/(np.std(ytrain)**2)\n",
    "Rsq_tr = 1-RSS_tr\n",
    "print(\"RSS per sample = {0:f}\".format(RSS_tr))\n",
    "print(\"R^2 =            {0:f}\".format(Rsq_tr))"
   ]
  },
  {
   "cell_type": "markdown",
   "metadata": {},
   "source": [
    "## Measure the Fit on an Indepdent Dataset\n",
    "\n",
    "Load the data in `exp2.csv`.  Compute the regression predicted values on this data and plot the predicted and actual values over time."
   ]
  },
  {
   "cell_type": "code",
   "execution_count": 10,
   "metadata": {},
   "outputs": [
    {
     "data": {
      "text/html": [
       "<div>\n",
       "<style>\n",
       "    .dataframe thead tr:only-child th {\n",
       "        text-align: right;\n",
       "    }\n",
       "\n",
       "    .dataframe thead th {\n",
       "        text-align: left;\n",
       "    }\n",
       "\n",
       "    .dataframe tbody tr th {\n",
       "        vertical-align: top;\n",
       "    }\n",
       "</style>\n",
       "<table border=\"1\" class=\"dataframe\">\n",
       "  <thead>\n",
       "    <tr style=\"text-align: right;\">\n",
       "      <th></th>\n",
       "      <th>t</th>\n",
       "      <th>q1</th>\n",
       "      <th>q2</th>\n",
       "      <th>q3</th>\n",
       "      <th>dq1</th>\n",
       "      <th>dq2</th>\n",
       "      <th>dq3</th>\n",
       "      <th>I1</th>\n",
       "      <th>I2</th>\n",
       "      <th>I3</th>\n",
       "      <th>eps21</th>\n",
       "      <th>eps22</th>\n",
       "      <th>eps31</th>\n",
       "      <th>eps32</th>\n",
       "      <th>ddq1</th>\n",
       "      <th>ddq2</th>\n",
       "      <th>ddq3</th>\n",
       "    </tr>\n",
       "  </thead>\n",
       "  <tbody>\n",
       "    <tr>\n",
       "      <th>0</th>\n",
       "      <td>0.00</td>\n",
       "      <td>-0.000007</td>\n",
       "      <td>1.9024</td>\n",
       "      <td>0.26063</td>\n",
       "      <td>-0.000364</td>\n",
       "      <td>4.940656e-321</td>\n",
       "      <td>0.012596</td>\n",
       "      <td>-0.096928</td>\n",
       "      <td>-0.15134</td>\n",
       "      <td>-0.017005</td>\n",
       "      <td>-130.83</td>\n",
       "      <td>-41.856</td>\n",
       "      <td>-6.3635</td>\n",
       "      <td>5.13410</td>\n",
       "      <td>-0.045712</td>\n",
       "      <td>6.210306e-319</td>\n",
       "      <td>1.582900</td>\n",
       "    </tr>\n",
       "    <tr>\n",
       "      <th>1</th>\n",
       "      <td>0.01</td>\n",
       "      <td>0.000013</td>\n",
       "      <td>1.9024</td>\n",
       "      <td>0.26073</td>\n",
       "      <td>0.000739</td>\n",
       "      <td>4.940656e-321</td>\n",
       "      <td>0.012095</td>\n",
       "      <td>-0.028908</td>\n",
       "      <td>-0.11903</td>\n",
       "      <td>-0.020406</td>\n",
       "      <td>-138.18</td>\n",
       "      <td>-51.100</td>\n",
       "      <td>-14.6590</td>\n",
       "      <td>-5.05820</td>\n",
       "      <td>0.125580</td>\n",
       "      <td>1.766878e-319</td>\n",
       "      <td>0.414660</td>\n",
       "    </tr>\n",
       "    <tr>\n",
       "      <th>2</th>\n",
       "      <td>0.02</td>\n",
       "      <td>-0.000007</td>\n",
       "      <td>1.9024</td>\n",
       "      <td>0.26086</td>\n",
       "      <td>-0.000580</td>\n",
       "      <td>4.940656e-321</td>\n",
       "      <td>0.011596</td>\n",
       "      <td>-0.059517</td>\n",
       "      <td>-0.13944</td>\n",
       "      <td>-0.047614</td>\n",
       "      <td>-139.36</td>\n",
       "      <td>-51.812</td>\n",
       "      <td>-14.6590</td>\n",
       "      <td>-5.29520</td>\n",
       "      <td>-0.130080</td>\n",
       "      <td>4.990557e-320</td>\n",
       "      <td>0.082286</td>\n",
       "    </tr>\n",
       "    <tr>\n",
       "      <th>3</th>\n",
       "      <td>0.03</td>\n",
       "      <td>0.000013</td>\n",
       "      <td>1.9024</td>\n",
       "      <td>0.26099</td>\n",
       "      <td>0.001409</td>\n",
       "      <td>4.940656e-321</td>\n",
       "      <td>0.013933</td>\n",
       "      <td>-0.079923</td>\n",
       "      <td>-0.15304</td>\n",
       "      <td>-0.023807</td>\n",
       "      <td>-135.57</td>\n",
       "      <td>-48.019</td>\n",
       "      <td>-11.3410</td>\n",
       "      <td>-0.79168</td>\n",
       "      <td>0.213010</td>\n",
       "      <td>1.394253e-320</td>\n",
       "      <td>0.190650</td>\n",
       "    </tr>\n",
       "    <tr>\n",
       "      <th>4</th>\n",
       "      <td>0.04</td>\n",
       "      <td>-0.000007</td>\n",
       "      <td>1.9024</td>\n",
       "      <td>0.26110</td>\n",
       "      <td>-0.001273</td>\n",
       "      <td>4.940656e-321</td>\n",
       "      <td>0.010793</td>\n",
       "      <td>-0.025507</td>\n",
       "      <td>-0.12924</td>\n",
       "      <td>-0.006802</td>\n",
       "      <td>-135.81</td>\n",
       "      <td>-49.204</td>\n",
       "      <td>-12.0520</td>\n",
       "      <td>-2.21390</td>\n",
       "      <td>-0.276490</td>\n",
       "      <td>3.581976e-321</td>\n",
       "      <td>-0.170400</td>\n",
       "    </tr>\n",
       "    <tr>\n",
       "      <th>5</th>\n",
       "      <td>0.05</td>\n",
       "      <td>-0.000007</td>\n",
       "      <td>1.9024</td>\n",
       "      <td>0.26124</td>\n",
       "      <td>0.001928</td>\n",
       "      <td>4.940656e-321</td>\n",
       "      <td>0.011915</td>\n",
       "      <td>-0.083324</td>\n",
       "      <td>-0.14964</td>\n",
       "      <td>-0.034010</td>\n",
       "      <td>-139.60</td>\n",
       "      <td>-53.471</td>\n",
       "      <td>-16.0820</td>\n",
       "      <td>-6.95450</td>\n",
       "      <td>0.323560</td>\n",
       "      <td>1.141292e-321</td>\n",
       "      <td>0.031745</td>\n",
       "    </tr>\n",
       "  </tbody>\n",
       "</table>\n",
       "</div>"
      ],
      "text/plain": [
       "      t        q1      q2       q3       dq1            dq2       dq3  \\\n",
       "0  0.00 -0.000007  1.9024  0.26063 -0.000364  4.940656e-321  0.012596   \n",
       "1  0.01  0.000013  1.9024  0.26073  0.000739  4.940656e-321  0.012095   \n",
       "2  0.02 -0.000007  1.9024  0.26086 -0.000580  4.940656e-321  0.011596   \n",
       "3  0.03  0.000013  1.9024  0.26099  0.001409  4.940656e-321  0.013933   \n",
       "4  0.04 -0.000007  1.9024  0.26110 -0.001273  4.940656e-321  0.010793   \n",
       "5  0.05 -0.000007  1.9024  0.26124  0.001928  4.940656e-321  0.011915   \n",
       "\n",
       "         I1       I2        I3   eps21   eps22    eps31    eps32      ddq1  \\\n",
       "0 -0.096928 -0.15134 -0.017005 -130.83 -41.856  -6.3635  5.13410 -0.045712   \n",
       "1 -0.028908 -0.11903 -0.020406 -138.18 -51.100 -14.6590 -5.05820  0.125580   \n",
       "2 -0.059517 -0.13944 -0.047614 -139.36 -51.812 -14.6590 -5.29520 -0.130080   \n",
       "3 -0.079923 -0.15304 -0.023807 -135.57 -48.019 -11.3410 -0.79168  0.213010   \n",
       "4 -0.025507 -0.12924 -0.006802 -135.81 -49.204 -12.0520 -2.21390 -0.276490   \n",
       "5 -0.083324 -0.14964 -0.034010 -139.60 -53.471 -16.0820 -6.95450  0.323560   \n",
       "\n",
       "            ddq2      ddq3  \n",
       "0  6.210306e-319  1.582900  \n",
       "1  1.766878e-319  0.414660  \n",
       "2  4.990557e-320  0.082286  \n",
       "3  1.394253e-320  0.190650  \n",
       "4  3.581976e-321 -0.170400  \n",
       "5  1.141292e-321  0.031745  "
      ]
     },
     "execution_count": 10,
     "metadata": {},
     "output_type": "execute_result"
    }
   ],
   "source": [
    "# TODO\n",
    "df = pd.read_csv('./exp2.csv',\n",
    "                 header=None,names=names,na_values='?')\n",
    "# df = pd.read_csv(...)\n",
    "\n",
    "df.head(6)"
   ]
  },
  {
   "cell_type": "markdown",
   "metadata": {},
   "source": [
    "Measure the normalized RSS on the test data.  Is it substantially higher than the training data?"
   ]
  },
  {
   "cell_type": "code",
   "execution_count": 11,
   "metadata": {},
   "outputs": [
    {
     "data": {
      "image/png": "[encoded data removed]",
      "text/plain": [
       "<matplotlib.figure.Figure at 0x19b479b7d68>"
      ]
     },
     "metadata": {},
     "output_type": "display_data"
    }
   ],
   "source": [
    "# TODO\n",
    "# TODO\n",
    "\n",
    "xstr = 't'\n",
    "t = np.array(df[xstr])\n",
    "y = np.array(df['I2'])\n",
    "\n",
    "plt.plot(t,y,'o')\n",
    "plt.xlabel(xstr)\n",
    "plt.ylabel('y')\n",
    "plt.grid(True)\n",
    "\n",
    "ytrain =  y\n",
    "Xtrain = df.as_matrix(columns=['q2','dq2','eps21', 'eps22', 'eps31', 'eps32','ddq2']) \n",
    "\n",
    "\n"
   ]
  },
  {
   "cell_type": "code",
   "execution_count": 12,
   "metadata": {
    "scrolled": true
   },
   "outputs": [
    {
     "data": {
      "text/plain": [
       "array([-0.04047847,  0.20146635,  0.00659321, -0.01238036,  0.00682746,\n",
       "        0.00436899,  0.04421797])"
      ]
     },
     "execution_count": 12,
     "metadata": {},
     "output_type": "execute_result"
    }
   ],
   "source": [
    "regr = linear_model.LinearRegression()\n",
    "regr.fit(Xtrain,ytrain)\n",
    "regr.coef_"
   ]
  },
  {
   "cell_type": "markdown",
   "metadata": {},
   "source": [
    "## Measure the Fit on an Indepdent Dataset\n",
    "\n",
    "Rsq is 0.89  near to 0.90    Both nice fit "
   ]
  },
  {
   "cell_type": "code",
   "execution_count": 13,
   "metadata": {},
   "outputs": [
    {
     "name": "stdout",
     "output_type": "stream",
     "text": [
      "RSS per sample = 0.101028\n",
      "R^2 =            0.898972\n"
     ]
    }
   ],
   "source": [
    "y_tr_pred = regr.predict(Xtrain)\n",
    "RSS_tr = np.mean((y_tr_pred-ytrain)**2)/(np.std(ytrain)**2)\n",
    "Rsq_tr = 1-RSS_tr\n",
    "print(\"RSS per sample = {0:f}\".format(RSS_tr))\n",
    "print(\"R^2 =            {0:f}\".format(Rsq_tr))"
   ]
  }
 ],
 "metadata": {
  "anaconda-cloud": {},
  "kernelspec": {
   "display_name": "Python 3",
   "language": "python",
   "name": "python3"
  },
  "language_info": {
   "codemirror_mode": {
    "name": "ipython",
    "version": 3
   },
   "file_extension": ".py",
   "mimetype": "text/x-python",
   "name": "python",
   "nbconvert_exporter": "python",
   "pygments_lexer": "ipython3",
   "version": "3.6.2"
  }
 },
 "nbformat": 4,
 "nbformat_minor": 1
}
