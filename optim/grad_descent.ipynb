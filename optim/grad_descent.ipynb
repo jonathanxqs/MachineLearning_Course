{
 "cells": [
  {
   "cell_type": "markdown",
   "metadata": {},
   "source": [
    "# Demo:  Gradient Descent Optimization\n",
    "\n",
    "In the [breast cancer demo](../logistic/breast_cancer.ipynb), we used the `sklearn` built-in `LogisticRegression` class to find the weights for the logistic regression problem.   The `fit` routine in that class has an *optimizer* to select the weights to best match the data.  To understand how that optimizer works, in this demo, we will build a very simple gradient descent optimizer from scratch.  You will learn to:\n",
    "* Compute the gradients of a simple loss function and implement the gradient calculations in python\n",
    "* Implement a simple gradient descent optimizer\n",
    "* Visualize the effect of the learning rate in gradient descent\n",
    "* Implement an adaptive learning rate algorithm"
   ]
  },
  {
   "cell_type": "markdown",
   "metadata": {},
   "source": [
    "## Loading the Breast Cancer Data\n",
    "\n",
    "We first load the standard packages."
   ]
  },
  {
   "cell_type": "code",
<<<<<<< HEAD
<<<<<<< HEAD
   "execution_count": 1,
   "metadata": {},
=======
   "execution_count": 7,
=======
   "execution_count": 1,
>>>>>>> acd1dc85b4b5b5246dbd4bc5ceb4e91f4df892f9
   "metadata": {
    "collapsed": true
   },
>>>>>>> 11247a98b0ff85de5a589a23e4e0f44c7b49e901
   "outputs": [],
   "source": [
    "import numpy as np\n",
    "import matplotlib.pyplot as plt\n",
    "import pandas as pd\n",
    "%matplotlib inline\n",
    "from sklearn import preprocessing"
   ]
  },
  {
   "cell_type": "markdown",
   "metadata": {},
   "source": [
    "We next load the data from the [breast cancer demo](../logistic/breast_cancer.ipynb).  "
   ]
  },
  {
   "cell_type": "code",
<<<<<<< HEAD
<<<<<<< HEAD
   "execution_count": 2,
=======
   "execution_count": 8,
>>>>>>> 11247a98b0ff85de5a589a23e4e0f44c7b49e901
=======
   "execution_count": 2,
>>>>>>> acd1dc85b4b5b5246dbd4bc5ceb4e91f4df892f9
   "metadata": {},
   "outputs": [
    {
     "data": {
      "text/html": [
       "<div>\n",
       "<style>\n",
       "    .dataframe thead tr:only-child th {\n",
       "        text-align: right;\n",
       "    }\n",
       "\n",
       "    .dataframe thead th {\n",
       "        text-align: left;\n",
       "    }\n",
       "\n",
       "    .dataframe tbody tr th {\n",
       "        vertical-align: top;\n",
       "    }\n",
       "</style>\n",
       "<table border=\"1\" class=\"dataframe\">\n",
       "  <thead>\n",
       "    <tr style=\"text-align: right;\">\n",
       "      <th></th>\n",
       "      <th>id</th>\n",
       "      <th>thick</th>\n",
       "      <th>size_unif</th>\n",
       "      <th>shape_unif</th>\n",
       "      <th>marg</th>\n",
       "      <th>cell_size</th>\n",
       "      <th>bare</th>\n",
       "      <th>chrom</th>\n",
       "      <th>normal</th>\n",
       "      <th>mit</th>\n",
       "      <th>class</th>\n",
       "    </tr>\n",
       "  </thead>\n",
       "  <tbody>\n",
       "    <tr>\n",
       "      <th>0</th>\n",
       "      <td>1000025</td>\n",
       "      <td>5</td>\n",
       "      <td>1</td>\n",
       "      <td>1</td>\n",
       "      <td>1</td>\n",
       "      <td>2</td>\n",
       "      <td>1.0</td>\n",
       "      <td>3</td>\n",
       "      <td>1</td>\n",
       "      <td>1</td>\n",
       "      <td>2</td>\n",
       "    </tr>\n",
       "    <tr>\n",
       "      <th>1</th>\n",
       "      <td>1002945</td>\n",
       "      <td>5</td>\n",
       "      <td>4</td>\n",
       "      <td>4</td>\n",
       "      <td>5</td>\n",
       "      <td>7</td>\n",
       "      <td>10.0</td>\n",
       "      <td>3</td>\n",
       "      <td>2</td>\n",
       "      <td>1</td>\n",
       "      <td>2</td>\n",
       "    </tr>\n",
       "    <tr>\n",
       "      <th>2</th>\n",
       "      <td>1015425</td>\n",
       "      <td>3</td>\n",
       "      <td>1</td>\n",
       "      <td>1</td>\n",
       "      <td>1</td>\n",
       "      <td>2</td>\n",
       "      <td>2.0</td>\n",
       "      <td>3</td>\n",
       "      <td>1</td>\n",
       "      <td>1</td>\n",
       "      <td>2</td>\n",
       "    </tr>\n",
       "    <tr>\n",
       "      <th>3</th>\n",
       "      <td>1016277</td>\n",
       "      <td>6</td>\n",
       "      <td>8</td>\n",
       "      <td>8</td>\n",
       "      <td>1</td>\n",
       "      <td>3</td>\n",
       "      <td>4.0</td>\n",
       "      <td>3</td>\n",
       "      <td>7</td>\n",
       "      <td>1</td>\n",
       "      <td>2</td>\n",
       "    </tr>\n",
       "    <tr>\n",
       "      <th>4</th>\n",
       "      <td>1017023</td>\n",
       "      <td>4</td>\n",
       "      <td>1</td>\n",
       "      <td>1</td>\n",
       "      <td>3</td>\n",
       "      <td>2</td>\n",
       "      <td>1.0</td>\n",
       "      <td>3</td>\n",
       "      <td>1</td>\n",
       "      <td>1</td>\n",
       "      <td>2</td>\n",
       "    </tr>\n",
       "  </tbody>\n",
       "</table>\n",
       "</div>"
      ],
      "text/plain": [
       "        id  thick  size_unif  shape_unif  marg  cell_size  bare  chrom  \\\n",
       "0  1000025      5          1           1     1          2   1.0      3   \n",
       "1  1002945      5          4           4     5          7  10.0      3   \n",
       "2  1015425      3          1           1     1          2   2.0      3   \n",
       "3  1016277      6          8           8     1          3   4.0      3   \n",
       "4  1017023      4          1           1     3          2   1.0      3   \n",
       "\n",
       "   normal  mit  class  \n",
       "0       1    1      2  \n",
       "1       2    1      2  \n",
       "2       1    1      2  \n",
       "3       7    1      2  \n",
       "4       1    1      2  "
      ]
     },
<<<<<<< HEAD
<<<<<<< HEAD
     "execution_count": 2,
=======
     "execution_count": 8,
>>>>>>> 11247a98b0ff85de5a589a23e4e0f44c7b49e901
=======
     "execution_count": 2,
>>>>>>> acd1dc85b4b5b5246dbd4bc5ceb4e91f4df892f9
     "metadata": {},
     "output_type": "execute_result"
    }
   ],
   "source": [
    "names = ['id','thick','size_unif','shape_unif','marg','cell_size','bare',\n",
    "         'chrom','normal','mit','class']\n",
    "df = pd.read_csv('https://archive.ics.uci.edu/ml/machine-learning-databases/' +\n",
    "                 'breast-cancer-wisconsin/breast-cancer-wisconsin.data',\n",
    "                names=names,na_values='?',header=None)\n",
    "df = df.dropna()\n",
    "df.head()"
   ]
  },
  {
   "cell_type": "markdown",
   "metadata": {},
   "source": [
    "As in the breast cancer demo, we create a data matrix `X` of various features of the breast cancer sample.  The response vector `y` is a binary indicating if each sample is benign or malignant.  "
   ]
  },
  {
   "cell_type": "code",
<<<<<<< HEAD
<<<<<<< HEAD
   "execution_count": 3,
   "metadata": {},
=======
   "execution_count": 9,
=======
   "execution_count": 3,
>>>>>>> acd1dc85b4b5b5246dbd4bc5ceb4e91f4df892f9
   "metadata": {
    "collapsed": true
   },
>>>>>>> 11247a98b0ff85de5a589a23e4e0f44c7b49e901
   "outputs": [],
   "source": [
    "# Get the predictors\n",
    "xnames = names[1:-1]\n",
    "X = np.array(df[xnames])\n",
    "Xs = preprocessing.scale(X)\n",
    "\n",
    "# Get the response.  Convert to a zero-one indicator \n",
    "yraw = np.array(df['class'])\n",
    "BEN_VAL = 2   # value in the 'class' label for benign samples\n",
    "MAL_VAL = 4   # value in the 'class' label for malignant samples\n",
    "y = (yraw == MAL_VAL).astype(int)"
   ]
  },
  {
   "cell_type": "markdown",
   "metadata": {},
   "source": [
    "We want to learn the classification rule to predict `y` from `X`.  To this end, we first split the data into training and test."
   ]
  },
  {
   "cell_type": "code",
<<<<<<< HEAD
<<<<<<< HEAD
   "execution_count": 4,
   "metadata": {},
=======
   "execution_count": 10,
=======
   "execution_count": 4,
>>>>>>> acd1dc85b4b5b5246dbd4bc5ceb4e91f4df892f9
   "metadata": {
    "collapsed": true
   },
>>>>>>> 11247a98b0ff85de5a589a23e4e0f44c7b49e901
   "outputs": [],
   "source": [
    "ntr = 400        # number of training samples\n",
    "Xtr = X[:ntr,:]  # training\n",
    "ytr = y[:ntr]\n",
    "Xts = X[ntr:,:]  # test\n",
    "yts = y[ntr:]"
   ]
  },
  {
   "cell_type": "markdown",
   "metadata": {},
   "source": [
    "## Computing the Gradient and Loss Function\n",
    "\n",
    "Recall that training a logistic function means finding a weight vector `w` for the classification rule:\n",
    "\n",
    "    P(y=1|x,w) = 1/(1+\\exp(-z)), z = w[0] + w[1]*x[0] + ... + w[k]x[k-1]\n",
    "    \n",
    "From the class notes in logistic regression, we saw that the weight vector can be found by minimizing  the negative log likelihood.  The negative log likelihood is called the *loss* function.  For the logistic regression problem, the loss function simplifies to:\n",
    "\n",
    "\n",
    "    f(w) = \\sum_i -y[i]z[i] + ln(1+exp(z[i])),  z[i] = w[0] + w[1]X[i,0] + ... + w[k]X[i,k-1].\n",
    "    \n",
    "To run a numerical optimizer in python, we need to implement a python function that returns `f(w)` and its gradient.  That is, we would like a function of the form:\n",
    "\n",
    "    def feval(w):\n",
    "        ...\n",
    "        return f, fgrad\n",
    "\n",
    "One issue is that the function `f(w)` also depends parameters `X` and `y`.  So, we need a way to pass those parameters to the function.  There are two approaches."
   ]
  },
  {
   "cell_type": "markdown",
   "metadata": {},
   "source": [
    "### Method 1.  Use a class method\n",
    "\n",
    "One approach to pass the parameters is to implement the function as a method in a class that contains the parameters.  In the code below, we create a class `LogisticFun` where the constructor takes the parameters `X` and `y`.  Then, the class method `feval` takes a variable `w` and computes the loss and its gradient."
   ]
  },
  {
   "cell_type": "code",
<<<<<<< HEAD
<<<<<<< HEAD
   "execution_count": 5,
   "metadata": {},
=======
   "execution_count": 11,
=======
   "execution_count": 5,
>>>>>>> acd1dc85b4b5b5246dbd4bc5ceb4e91f4df892f9
   "metadata": {
    "collapsed": true
   },
>>>>>>> 11247a98b0ff85de5a589a23e4e0f44c7b49e901
   "outputs": [],
   "source": [
    "class LogisticFun(object):\n",
    "    def __init__(self,X,y):\n",
    "        \"\"\"\n",
    "        Class for computes the loss and gradient for a logistic regression problem.\n",
    "        \n",
    "        The constructor takes the data matrix `X` and response vector y for training.\n",
    "        \"\"\"\n",
    "        self.X = X\n",
    "        self.y = y\n",
    "        n = X.shape[0]\n",
    "        self.A = np.column_stack((np.ones(n,), X))\n",
    "\n",
    "    def feval(self,w):\n",
    "        \"\"\"\n",
    "        Compute the loss and gradient for a given weight vector\n",
    "        \"\"\"\n",
    "        # The loss is the binary cross entropy\n",
    "        z = self.A.dot(w)\n",
    "        py = 1/(1+np.exp(-z))\n",
    "        f = np.sum((1-self.y)*z - np.log(py))\n",
    "        \n",
    "        # Gradient\n",
    "        df_dz = py-self.y\n",
    "        fgrad = self.A.T.dot(df_dz)\n",
    "        return f, fgrad"
   ]
  },
  {
   "cell_type": "markdown",
   "metadata": {},
   "source": [
    "Once we have defined the class we can create an *instance* of the class with the training data."
   ]
  },
  {
   "cell_type": "code",
<<<<<<< HEAD
<<<<<<< HEAD
   "execution_count": 6,
   "metadata": {},
=======
   "execution_count": 12,
=======
   "execution_count": 6,
>>>>>>> acd1dc85b4b5b5246dbd4bc5ceb4e91f4df892f9
   "metadata": {
    "collapsed": true
   },
>>>>>>> 11247a98b0ff85de5a589a23e4e0f44c7b49e901
   "outputs": [],
   "source": [
    "log_fun = LogisticFun(Xtr,ytr)"
   ]
  },
  {
   "cell_type": "markdown",
   "metadata": {},
   "source": [
    "Then, we can call the method with only the value `w`."
   ]
  },
  {
   "cell_type": "code",
<<<<<<< HEAD
<<<<<<< HEAD
   "execution_count": 7,
=======
   "execution_count": 13,
>>>>>>> 11247a98b0ff85de5a589a23e4e0f44c7b49e901
   "metadata": {},
   "outputs": [
    {
     "name": "stdout",
     "output_type": "stream",
     "text": [
<<<<<<< HEAD
      "Actual f1-f0    =  -1.2665e-03\n",
      "Predicted f1-f0 =  -1.2665e-03\n"
=======
      "Actual f1-f0    =   3.3279e-04\n",
      "Predicted f1-f0 =   3.3279e-04\n"
>>>>>>> 11247a98b0ff85de5a589a23e4e0f44c7b49e901
     ]
    }
   ],
=======
   "execution_count": 7,
   "metadata": {},
   "outputs": [],
>>>>>>> acd1dc85b4b5b5246dbd4bc5ceb4e91f4df892f9
   "source": [
    "# Some random point\n",
    "p = X.shape[1]+1\n",
    "w0 = np.random.randn(p)\n",
    "\n",
    "# Call the function\n",
    "f, fgrad = log_fun.feval(w0)"
   ]
  },
  {
   "cell_type": "markdown",
   "metadata": {},
   "source": [
    "### Method 2.  Using Lambda functions\n",
    "\n",
    "An alternative method is to use python `lambda` functions.  The code below creates a function `feval_param` that has all the parameters.  Then, we use the `lambda` construction to fix the parameters `X` and `y`."
   ]
  },
  {
   "cell_type": "code",
   "execution_count": 8,
   "metadata": {
    "collapsed": true
   },
   "outputs": [],
   "source": [
    "# Create a function with all the parameters\n",
    "def feval_param(w,X,y):\n",
    "    \"\"\"\n",
    "    Compute the loss and gradient given w,X,y\n",
    "    \"\"\"\n",
    "    # Construct transform matrix\n",
    "    n = X.shape[0]\n",
    "    A = np.column_stack((np.ones(n,), X))\n",
    "\n",
    "    # The loss is the binary cross entropy\n",
    "    z = A.dot(w)\n",
    "    py = 1/(1+np.exp(-z))\n",
    "    f = np.sum((1-y)*z - np.log(py))\n",
    "\n",
    "    # Gradient\n",
    "    df_dz = py-y\n",
    "    fgrad = A.T.dot(df_dz)\n",
    "    return f, fgrad\n",
    "\n",
    "# Create a function with X,y fixed\n",
    "feval = lambda w: feval_param(w,Xtr,ytr)\n",
    "\n",
    "# You can now pass a parameter like w0\n",
    "f0, fgrad0 = feval(w0)"
   ]
  },
  {
   "cell_type": "markdown",
   "metadata": {},
   "source": [
    "### Testing the gradient\n",
    "\n",
    "Either way you create the function, it is very important to test if the gradient is correct.  This is the number one reason people's code does not work with numerical optimizers.  The simplest method is to take two points `w0` and `w1` that are close to one another and then verify that \n",
    "\n",
    "    f(w1) - f(w0) \\approx fgrad(w0).dot(w1 - w0)"
   ]
  },
  {
   "cell_type": "code",
   "execution_count": 9,
   "metadata": {},
   "outputs": [
    {
     "name": "stdout",
     "output_type": "stream",
     "text": [
      "Actual f1-f0    =  -4.6214e-03\n",
      "Predicted f1-f0 =  -4.6214e-03\n"
     ]
    }
   ],
   "source": [
    "# Take a random initial point\n",
    "p = X.shape[1]+1\n",
    "w0 = np.random.randn(p)\n",
    "\n",
    "# Perturb the point\n",
    "step = 1e-6\n",
    "w1 = w0 + step*np.random.randn(p)\n",
    "\n",
    "# Measure the function and gradient at w0 and w1\n",
    "f0, fgrad0 = log_fun.feval(w0)\n",
    "f1, fgrad1 = log_fun.feval(w1)\n",
    "\n",
    "# Predict the amount the function should have changed based on the gradient\n",
    "df_est = fgrad0.dot(w1-w0)\n",
    "\n",
    "# Print the two values to see if they are close\n",
    "print(\"Actual f1-f0    = %12.4e\" % (f1-f0))\n",
    "print(\"Predicted f1-f0 = %12.4e\" % df_est)"
   ]
  },
  {
   "cell_type": "markdown",
   "metadata": {},
   "source": [
    "You can see that the two agree well.  You would have got the same answer had you used the `feval` constructed in method 2."
   ]
  },
  {
   "cell_type": "markdown",
   "metadata": {},
   "source": [
    "## A Simple Gradient Descent Optimizer\n",
    "\n",
    "Now, we build a simple gradient descent optimizer function with a fixed learning rate."
   ]
  },
  {
   "cell_type": "code",
<<<<<<< HEAD
<<<<<<< HEAD
   "execution_count": 8,
   "metadata": {},
=======
   "execution_count": 18,
=======
   "execution_count": 10,
>>>>>>> acd1dc85b4b5b5246dbd4bc5ceb4e91f4df892f9
   "metadata": {
    "collapsed": true
   },
>>>>>>> 11247a98b0ff85de5a589a23e4e0f44c7b49e901
   "outputs": [],
   "source": [
    "def grad_opt_simp(feval, winit, lr=1e-3,nit=1000):\n",
    "    \"\"\"\n",
    "    Simple gradient descent optimization\n",
    "    \n",
    "    feval:  A function that returns f, fgrad, the objective\n",
    "            function and its gradient\n",
    "    winit:  Initial estimate\n",
    "    lr:     learning rate\n",
    "    nit:    Number of iterations\n",
    "    \"\"\"\n",
    "    # Initialize\n",
    "    w0 = winit\n",
    "    \n",
    "    # Create history dictionary for tracking progress per iteration.\n",
    "    # This isn't necessary if you just want the final answer, but it \n",
    "    # is useful for debugging\n",
    "    hist = {'w': [], 'f': []}\n",
    "    \n",
    "    # Loop over iterations\n",
    "    for it in range(nit):\n",
    "\n",
    "        # Evaluate the function and gradient\n",
    "        f0, fgrad0 = feval(w0)\n",
    "\n",
    "        # Take a gradient step\n",
    "        w0 = w0 - lr*fgrad0\n",
    "        \n",
    "         # Save history\n",
    "        hist['f'].append(f0)\n",
    "        hist['w'].append(w0)\n",
    "\n",
    "    # Convert to numpy arrays\n",
    "    for elem in ('f', 'w'):\n",
    "        hist[elem] = np.array(hist[elem])\n",
    "    return w0, f0, hist"
   ]
  },
  {
   "cell_type": "markdown",
   "metadata": {},
   "source": [
    "We now run the gradient descent starting from a random initial condition."
   ]
  },
  {
   "cell_type": "code",
<<<<<<< HEAD
<<<<<<< HEAD
   "execution_count": 9,
=======
   "execution_count": 26,
>>>>>>> 11247a98b0ff85de5a589a23e4e0f44c7b49e901
=======
   "execution_count": 11,
>>>>>>> acd1dc85b4b5b5246dbd4bc5ceb4e91f4df892f9
   "metadata": {},
   "outputs": [
    {
     "data": {
<<<<<<< HEAD
<<<<<<< HEAD
      "image/png": "iVBORw0KGgoAAAANSUhEUgAAAYAAAAEACAYAAAC6d6FnAAAABHNCSVQICAgIfAhkiAAAAAlwSFlz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\npQAQEclTCgARkTz1v65jUNb3+Kf2AAAAAElFTkSuQmCC\n",
      "text/plain": [
       "<matplotlib.figure.Figure at 0x18f731281d0>"
=======
      "image/png": "iVBORw0KGgoAAAANSUhEUgAAAYQAAAEECAYAAAAoDUMLAAAABHNCSVQICAgIfAhkiAAAAAlwSFlz\nAAALEgAACxIB0t1+/AAAG5xJREFUeJzt3XuwFPWd9/H3B48XEAQ0ArWYiFFRtDR4eTBZ1/UYE8FK\nIroaivhEPSvuJhqzPrF2I+AF43qNWUs3K+5uvBysxFKfrTJq4gVZnZhLqbiJlwgCujkuUI+YeAHx\nDnyfP7oHBjyXOWfmTE9Pf15VXUz/pnvme/wdz3f6++3uUURgZmY2JOsAzMysOTghmJkZ4IRgZmYp\nJwQzMwOcEMzMLOWEYGZmQBUJQdKOkp6U9DtJz0ual46PlrRQ0jJJD0saWbHPHEkrJC2VdFzF+KGS\nnpO0XNL1g/MjmZnZQPSZECLiA+CYiDgEmAwcL2kKMBtYFBH7AY8CcwAkHQDMACYBxwPzJSl9uZuA\nWRExEZgoaWq9fyAzMxuYqkpGEfFu+nBHoA0IYDqwIB1fAJyYPj4BuDMiNkREF7ACmCJpHDAiIhan\n291esY+ZmWWsqoQgaYik3wGvAo+kf9THRsQagIh4FRiTbj4eWFmx++p0bDywqmJ8VTpmZmZNoK2a\njSJiE3CIpF2AeyQdSHKUsNVm9QpKku+nYWY2ABGhvrfqXr/OMoqIdUAJmAaskTQWIC0HvZZuthr4\nZMVue6RjPY339F6ZLvPmzWuK1+vPftVs29s2PT3Xn/F6/3fL8/w1cu5aaf6aYe4aPX/9fa6n7WtV\nzVlGnyifQSRpKPBFYClwH9CRbnYGcG/6+D5gpqQdJO0F7AM8FUlZaa2kKWmT+fSKfZpOe3t7U7xe\nf/arZtvetunpuf6Md3V19RlDIzTD/DVy7np7Pm/z1wxz19/9Buv/vZ6eq/d/ozL1lVUkHUTSNB6S\nLndFxBWSdgXuJvnU/wowIyLeSveZA8wCPgLOi4iF6fhhQCewE/BARJzXw3tGPbKdNV5HRwednZ1Z\nh2ED5PnLN0lEDSWjPhNCFpwQ8qtUKg3apxcbfJ6/fHNCMDMzoPaE4FtXWF2VSqWsQ7AaeP6KzQnB\nzMwAl4zMzFqGS0ZmZlYXTghWV65B55vnr9icEMzMDHAPwcysZbiHYGZmdeGEYHXlGnS+ef6KzQnB\nzMwA9xDMzFqGewhmZlYXTghWV65B55vnr9icEMzMDHAPwcysZbiHYGZmdeGEYHXlGnS+ef6KzQnB\nzMwA9xDMzFqGewhmZlYXTghWV65B55vnr9icEMzMDHAPwcysZbiHYGZmdeGEYHXlGnS+ef6KzQnB\nzMwA9xDMzFrGoPcQJO0h6VFJL0h6XtK30/F5klZJ+m26TKvYZ46kFZKWSjquYvxQSc9JWi7p+oEG\nbWZm9VdNyWgDcH5EHAh8DjhX0v7pc9dFxKHp8hCApEnADGAScDwwX1I5Y90EzIqIicBESVPr+cNY\n9lyDzjfPX7H1mRAi4tWIeCZ9vB5YCoxPn+7u0GQ6cGdEbIiILmAFMEXSOGBERCxOt7sdOLHG+M3M\nrE761VSWNAGYDDyZDp0r6RlJN0samY6NB1ZW7LY6HRsPrKoYX8WWxGItor29PesQrAaev2Jrq3ZD\nScOB/wDOi4j1kuYDl0VESLoc+CfgrHoF1tHRwYQJEwAYNWoUkydP3vzLWj6s9brXve71Iq+XSiU6\nOzsBNv+9rEVVZxlJagN+BjwYETd08/yewP0RcbCk2UBExDXpcw8B84BXgMciYlI6PhM4OiLO7ub1\nfJZRTpVKpc2/uJY/nr98a9SVyrcCSyqTQdoTKPsr4Pfp4/uAmZJ2kLQXsA/wVES8CqyVNCVtMp8O\n3DvQwM3MrL76PEKQdCTwOPA8EOkyFziVpJ+wCegCvhERa9J95gCzgI9ISkwL0/HDgE5gJ+CBiDiv\nh/f0EYKZWT/VeoTgC9PMzFqEb25nTaXc8LJ88vwVmxOCmZkBLhmZmbUMl4zMzKwunBCsrlyDzjfP\nX7E5IZiZGeAegplZy3APwczM6sIJwerKNeh88/wVmxOCmZkB7iGYmbUM9xDMzKwunBCsrlyDzjfP\nX7E5IZiZGeAegplZy3APwczM6sIJwerKNeh88/wVmxOCmZkB7iGYmbUM9xDMzKwunBCsrlyDzjfP\nX7E5IZiZGeAegplZy3APwczM6sIJwerKNeh88/wVmxOCmZkB7iGYmbUM9xDMzKwunBCsrlyDzjfP\nX7H1mRAk7SHpUUkvSHpe0t+l46MlLZS0TNLDkkZW7DNH0gpJSyUdVzF+qKTnJC2XdP3g/EhmZjYQ\nffYQJI0DxkXEM5KGA/8FTAf+Gng9Ir4v6QJgdETMlnQA8BPgfwF7AIuAfSMiJD0JnBsRiyU9ANwQ\nEQ93857uIZiZ9dOg9xAi4tWIeCZ9vB5YSvKHfjqwIN1sAXBi+vgE4M6I2BARXcAKYEqaWEZExOJ0\nu9sr9jEzs4z1q4cgaQIwGXgCGBsRayBJGsCYdLPxwMqK3VanY+OBVRXjq9IxayGuQeeb56/Y2qrd\nMC0X/QdwXkSsl7RtTaeuNZ6Ojg4mTJgAwKhRo5g8eTLt7e3All9ar3vd614v8nqpVKKzsxNg89/L\nWlR1HYKkNuBnwIMRcUM6thRoj4g1aTnosYiYJGk2EBFxTbrdQ8A84JXyNun4TODoiDi7m/dzD8HM\nrJ8adR3CrcCScjJI3Qd0pI/PAO6tGJ8paQdJewH7AE+lZaW1kqZIEnB6xT5mZpaxak47PRL438Dn\nJf1O0m8lTQOuAb4oaRlwLHA1QEQsAe4GlgAPAOdUfNz/FnALsBxYEREP1fsHsmyVD2ctnzx/xdZn\nDyEifg1s18PTX+hhn6uAq7oZ/y/goP4EaGZmjeF7GZmZtQjfy8jMzOrCCcHqyjXofPP8FVvTJgRX\njMzMGqtpewj33BOc6BtbmJlVrdYeQtMmhP33D55/HtqqvpbazKzYWrapPHYsLFjQ93bWXFyDzjfP\nX7E1bUK4+mq49FJ4772sIzEzK4amLRlFBCefDEccAd/9btYRmZk1v5btIUQEL74IRx0Fy5fD6NFZ\nR2Vm1txatocAsP/+cNJJcM01WUdi1XINOt88f8XW1AkBYN48+NGPYNWqvrc1M7OBa+qSUdns2fD6\n60liMDOz7rV0D6HszTdh4kR4/HGYNCnDwMzMmlhL9xDKRo9OzjS68MKsI7G+uAadb56/YstFQgA4\n91xYvBieeCLrSMzMWlMuSkZlt96aXL1cKoEGfFBkZtaaClEyKjv9dPjjH+HBB7OOxMys9eQqIbS1\nwVVXJWcdbdyYdTTWHdeg883zV2y5SggAJ5wAI0bAHXdkHYmZWWvJVQ+h7Je/hNNOg2XLYMcdGxiY\nmVkTK1QPoeyoo+Cgg+Cmm7KOxMysdeQyIQBceWXST1i3LutIrJJr0Pnm+Su23CaEgw6CadPgBz/I\nOhIzs9aQyx5C2SuvwKGHwgsvwLhxDQjMzKyJFeJeRr05/3z44AO48cZBDsrMrMkVsqlcae5cuOsu\neOmlrCMxcA067zx/xZb7hPCJT8B3vgMXXZR1JGZm+dZnyUjSLcCXgTURcXA6Ng/4G+C1dLO5EfFQ\n+twc4ExgA3BeRCxMxw8FOoGdgAci4v/08p5Vl4wA3nkH9t0X7r8fDjus6t3MzFpKI0pGtwFTuxm/\nLiIOTZdyMpgEzAAmAccD86XNt6G7CZgVEROBiZK6e80B2XlnuOQSmDOnXq9oZlY8fSaEiPgV8GY3\nT3WXhaYDd0bEhojoAlYAUySNA0ZExOJ0u9uBEwcWcvdmzYKuLli0qJ6vav3lGnS+ef6KrZYewrmS\nnpF0s6SR6dh4YGXFNqvTsfFA5bcir0rH6mb77eHyy5Mb323aVM9XNjMrhrYB7jcfuCwiQtLlwD8B\nZ9UvLOjo6GDChAkAjBo1ismTJ9Pe3g5s+RSz7fopp7Rz7bVw6aUlPv/5jz/v9cFfb29vb6p4vO75\na+X1UqlEZ2cnwOa/l7Wo6joESXsC95ebyj09J2k2EBFxTfrcQ8A84BXgsYiYlI7PBI6OiLN7eL9+\nNZUr/ed/wje/CUuWJEcNZmZF0ajrEERFzyDtCZT9FfD79PF9wExJO0jaC9gHeCoiXgXWSpqSNplP\nB+4daNC9OfZY+PSn4eabB+PVrS/lTy+WT56/YuuzZCTpDqAd2E3S/5B84j9G0mRgE9AFfAMgIpZI\nuhtYAnwEnFPxUf9bbH3a6UN1/UkqXH01fOlLyS2yhw8frHcxM2stub91RU++9jU48EBfsGZmxVH4\nexn15OWX4Ygj4MUXk6uZzcxaXeHvZdSTvfeGmTPhiiuyjqRYXIPON89fsbVsQgC4+GK4/fbkgjUz\nM+tdy5aMyubNgz/8IUkMZmatzD2EPqxbBxMnwsKFcPDHrqIwM2sd7iH0YZddku9MmDs360iKwTXo\nfPP8FVvLJwSAb3wj+ZrNxx/POhIzs+bV8iWjsh//OPmazd/8BjTgAyozs+blklGVTj0V3nsP7h2U\nG2aYmeVfYRLCkCFw1VXJl+hs2JB1NK3LNeh88/wVW2ESAsC0aTBuHCxYkHUkZmbNpzA9hLInn4RT\nToHly2Ho0EF5CzOzTLiH0E9HHAFTpsAPf5h1JGZmzaVwCQHgyivh2mvhze6+Kdpq4hp0vnn+iq2Q\nCWG//eCkk5LvTTAzs0Theghlq1cnt7J49lnYY49BfSszs4bwvYxqMGcO/OlP8KMfDfpbmZkNOjeV\na3DBBcmFakuXZh1J63ANOt88f8VW6IQwahR897tw4YVZR2Jmlr1Cl4wA3n8/uT323XfDZz/bkLc0\nMxsULhnVaKed4NJLk/JRE+ZGM7OGKXxCADj99KS5/OCDWUeSf65B55vnr9icEIC2tuRitdmzYePG\nrKMxM8tG4XsIZRHwF38B3/wmnHZaQ9/azKwufB1CHf3yl0kyWLYMdtyx4W9vZlYTN5Xr6Kij4KCD\n4Kabso4kv1yDzjfPX7E5IWzjqquSZd26rCMxM2ssl4y60dEBn/wk/OM/ZhaCmVm/DXrJSNItktZI\neq5ibLSkhZKWSXpY0siK5+ZIWiFpqaTjKsYPlfScpOWSrh9owI3wve/B/Pnw+utZR2Jm1jjVlIxu\nA6ZuMzYbWBQR+wGPAnMAJB0AzAAmAccD8yWVs9VNwKyImAhMlLTtazaNPfeEk0+G65s6bTUn16Dz\nzfNXbH0mhIj4FbDtV8lMB8rfTLwAODF9fAJwZ0RsiIguYAUwRdI4YERELE63u71in6Y0d27SXPaX\n6JhZUQy0qTwmItYARMSrwJh0fDywsmK71enYeGBVxfiqdKxpTZgA06fDDTdkHUm+tLe3Zx2C1cDz\nV2xtdXqduneAOzo6mDBhAgCjRo1i8uTJm39Zy4e1g70+d247RxwBhx9eYvjwwX8/r3vd617vz3qp\nVKKzsxNg89/LWlR1lpGkPYH7I+LgdH0p0B4Ra9Jy0GMRMUnSbCAi4pp0u4eAecAr5W3S8ZnA0RFx\ndg/vl+lZRpXOOAP23RcuuijrSPKhVCpt/sW1/PH85VujLkxTupTdB3Skj88A7q0YnylpB0l7AfsA\nT6VlpbWSpqRN5tMr9mlqF14I//zPvi7BzFpfn0cIku4A2oHdgDUkn/h/Cvxf4JMkn/5nRMRb6fZz\ngFnAR8B5EbEwHT8M6AR2Ah6IiPN6ec+mOUIA+PrX4cADk6/cNDNrVr6XUQMsXQrt7fDyyzB8eNbR\nmJl1z/cyaoBJk+CYY5KL1ax35YaX5ZPnr9icEKp08cVw3XXwzjtZR2JmNjhcMuqHr34VPvc5OP/8\nrCMxM/s49xAa6NlnYdo0+O//hqFDs47GzGxr7iE00Gc+A5/9LPz7v2cdSfNyDTrfPH/F5oTQT5dc\nAt//Prz/ftaRmJnVl0tGA3DCCTB1KnzrW1lHYma2hXsIGXj6aTjpJHjpJX/3spk1D/cQMnD44XDw\nwXDbbVlH0nxcg843z1+xOSEM0MUXJ9+9/OGHWUdiZlYfLhnVYOrU5NqEs87KOhIzM/cQMvXrX8Np\np8GyZbD99llHY2ZF5x5Cho48Ej79afjxj7OOpHm4Bp1vnr9ic0Ko0SWXwBVXwIYNWUdiZlYbl4zq\noL0dZs1KykdmZllxD6EJPPoonH02LFkC222XdTRmVlTuITSBY46BMWPgrruyjiR7rkHnm+ev2JwQ\n6kBKegmXXw4bN2YdjZnZwLhkVCcR8Od/Dt/5DsyYkXU0ZlZE7iE0kQcfhH/4B3juORjiYy8zazD3\nEJrItGkwbBjcc0/WkWTHNeh88/wVmxNCHZV7CZddBps2ZR2NmVn/uGRUZxFw2GEwbx5Mn551NGZW\nJC4ZNZnyUcL3vpckBzOzvHBCGATTpyclo5//POtIGs816Hzz/BWbE8IgkJLvS7jsMh8lmFl+uIcw\nSDZtSr5V7Qc/SM4+MjMbbO4hNKkhQ5KjBPcSzCwvakoIkrokPSvpd5KeSsdGS1ooaZmkhyWNrNh+\njqQVkpZKOq7W4JvdKafA2rWwaFHWkTSOa9D55vkrtlqPEDYB7RFxSERMScdmA4siYj/gUWAOgKQD\ngBnAJOB4YL6kAR/a5MF228FFF/kowczyoaYegqQ/AIdHxOsVYy8CR0fEGknjgFJE7C9pNhARcU26\n3YPApRHxZDevm/seQtnGjXDAAXD99XD88VlHY2atLOseQgCPSFosqfxV82MjYg1ARLwKjEnHxwMr\nK/ZdnY61tO22gxtvhDPOSL43wcysWbXVuP+REfH/JO0OLJS0jCRJVBrQR/2Ojg4mTJgAwKhRo5g8\neTLt7e3AljpnXtbb2krMnQszZ7Zz882wyy7NFV891ytr0M0Qj9c9f628XiqV6OzsBNj897IWdTvt\nVNI8YD1wFklfoVwyeiwiJnVTMnoImNfqJaNKixfDV74C110Hp56adTSDo1Qqbf7Ftfzx/OVbZre/\nljQMGBIR6yXtDCwEvgccC7wREddIugAYHRGz06byT4AjSEpFjwD7dveXv1UTAsALL8DUqXDhhcnX\nbpqZ1UutCaGWktFY4B5Jkb7OTyJioaSngbslnQm8QnJmERGxRNLdwBLgI+Cclv2r34sDD4THH4cv\nfCE5JXX27KwjMjNL+ErljKxeDV/8YnLfoyuvTG530Qpccsg3z1++ZX2WkQ3Q+PHJkcIjj8C55/r7\nE8wsez5CyNi6dUmj+VOfgltvhe23zzoiM8srHyHk3C67JN/F/Prr8NWvwvvvZx2RmRWVE0ITGDYM\nfvpT2HFH+PKXYf36rCMauMrz2C1/PH/F5oTQJHbYAe64A/baK2k2v/lm1hGZWdG4h9BkIuDv/z65\nQ+rDD8O4cVlHZGZ54R5Ci5GSL9U55RT4y7+EUgk+/DDrqMysCJwQmlD5Kzhnz06OFnbfPbleYf58\neOmlrKPrnWvQ+eb5KzYnhCZ25pnw9NNJEpg5E556Kjlq2HtvOOecpBG9bl3WUZpZq3APIWci4Pe/\nT/oLDz8MTzwBhxySNKL32y/pOZSXESNa5wpoM+tbZje3G0xOCNV7993kiudFi6CrC9asgVdfTZaN\nG7dOEGPGJNc9DB8OO++c/Fv5uLuxoUOdVMzywgnBerR+/dYJ4rXX4O23k/H16+Gdd/p+/OGHyXUS\nO+9c3bJmTYmDDmqvap9hw5IvELLm4XsZ5VuWdzu1Jlf+tL/33gN/jY0bkwRR7fLuu/Dyy9Vt+957\nycV4I0YkRy4jRyZL+fG2//b03IgRTixm9eAjBMvMpk1JUli/PrkV+Lp1W/9b7dg77yRHHCNHwq67\nVr/stptLYtZaXDKywtu0KSmFvfVWcoX3G29Uv2za9PFEsfvuWy9jxmy9vuOOWf/EZt1zQrCmkrca\n9HvvbZ1EXn8d/vjHZHnttS2PK5eddvp4kugucZTXd9op65+yenmbP9uaewhmNRg6NFn+7M+q2z4i\nKVN1lzRWroTf/nbLWPnfoUOT5FDNsuuu7odYdnyEYDaIygnktdeqW9auTZJCtQlk+HD3QGwLl4zM\nWsiGDfCnP22dJMpHG90tGzZUnzx23z25q661LicEayquQTfWu+/2njC2TSw779x70li9usTUqe2M\nGQOjR8MQ39wmV9xDMCuwYcNgzz2TpS8RyZlY3SWLJUuSO+suXw7/9m/J2Lp1yam52x5ljB6dLLvu\nuuVx5ZKnJrptzUcIZtatjz76ePnqtdeSs7J6W4YM6T5RVC7bXlxYuQwb5r7IQLlkZGZNI2LLqbw9\nLW+8kVw3sm7dlqV8oeG6dfDBB1uuXh/IUt63iFewOyFYU3EPId+aYf42bPh4wuhrWbt2633efjtZ\nhg7dOrlsm2h6em7b7fJy1OIegpm1lLa2LaWlWkQktzXZNlFUJpLy+qpVvW/3/vtbH3nUkmCa+Up3\nHyGYmfVhw4bknlvbJoueEkxPz61dmxxp1JJURozYsmy//dZx+gjBzGyQtbXBqFHJUqsPPqguqXR1\ndf9ceeztt5OEUE4OY8fWHpuPEKyumqEGbQPn+cuPiKSUVU4O774Ln/lMbUcIDb/sRNI0SS9KWi7p\ngka/vw2uZ555JusQrAaev/yQkqb52LGwzz5w8MG1v2ZDE4KkIcC/AFOBA4GvSdq/kTHY4Hrrrbey\nDsFq4PkrtkYfIUwBVkTEKxHxEXAnML3BMVSlVCo1xev1Z79qtu1tm56e6+94M2iG+Wvk3PX2fN7m\nrxnmrr/7Ddb/ez09N1hz1+iEMB5YWbG+Kh1rOv6lHNh4V1dXnzE0QjPMXx4TQjPMXzPMXX/3a5WE\n0NCmsqSTgakR8bfp+teBKRHxd9ts546ymdkA5Om009XApyrW90jHtlLLD2RmZgPT6JLRYmAfSXtK\n2gGYCdzX4BjMzKwbDT1CiIiNks4FFpIko1siYmkjYzAzs+415YVpZmbWeP4+JDMzA5wQzMwslYub\n20kaBswHPgB+ERF3ZByS9YOkvYALgV0iYkbW8Vj1JE0HvgSMAG6NiEcyDsn6Ib0TxHnAbsCjEfGv\nvW6fhx5Cer3CmxHxc0l3RsTMrGOy/pN0txNCPkkaBVwbEX+TdSzWf5IELIiI03vbLpOSkaRbJK2R\n9Nw24z3d+G4PtlzhvLFhgVq3BjB/1iRqmLuLgBsbE6X1ZCDzJ+krwM+AB/p6/ax6CLeR3OBusz5u\nfLeSJCkA+KK17PV3/jZv1pjwrBf9njtJVwMPRIRvhZq9fs9fRNwfEV8Cvt7Xi2eSECLiV8Cb2wz3\nduO7e4BTJN0I3N+4SK07/Z0/SbtKugmY7COHbA1g7r4NHEvy/9/fNjRY+5gBzN/Rkm6Q9K/Az/t6\n/WZqKnd347spABHxLnBmFkFZ1XqbvzeAs7MIyqrS29z9EPhhFkFZ1Xqbv18Av6j2hXzaqZmZAc2V\nEKq68Z01Lc9ffnnu8q1u85dlQhBbNxl947t88fzll+cu3wZt/rI67fQO4DfAREn/I+mvI2Ij8G2S\nG9+9ANzpG981J89ffnnu8m2w5y8XF6aZmdnga6YegpmZZcgJwczMACcEMzNLOSGYmRnghGBmZikn\nBDMzA5wQzMws5YRgZmYA/H+FEpMeKfCLjQAAAABJRU5ErkJggg==\n",
      "text/plain": [
       "<matplotlib.figure.Figure at 0x1f453a4bb70>"
>>>>>>> 11247a98b0ff85de5a589a23e4e0f44c7b49e901
=======
      "image/png": "iVBORw0KGgoAAAANSUhEUgAAAYQAAAEECAYAAAAoDUMLAAAABHNCSVQICAgIfAhkiAAAAAlwSFlz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\nQAlBREQiSggiIgIoIYiISEQJQUREAPh/A/wjTQDtO94AAAAASUVORK5CYII=\n",
      "text/plain": [
       "<matplotlib.figure.Figure at 0x21d7c44d780>"
>>>>>>> acd1dc85b4b5b5246dbd4bc5ceb4e91f4df892f9
      ]
     },
     "metadata": {},
     "output_type": "display_data"
    }
   ],
   "source": [
    "# Initial condition\n",
    "winit = np.random.randn(p)\n",
    "\n",
    "# Parameters\n",
    "feval = log_fun.feval\n",
    "nit = 1000\n",
    "lr = 1e-4\n",
    "\n",
    "# Run the gradient descent\n",
    "w, f0, hist = grad_opt_simp(feval, winit, lr=lr, nit=nit)\n",
    "\n",
    "# Plot the training loss\n",
    "t = np.arange(nit)\n",
    "plt.semilogx(t, hist['f'])\n",
    "plt.grid()"
   ]
  },
  {
   "cell_type": "markdown",
   "metadata": {},
   "source": [
    "We can measure the accuracy of the final estimate by creating a predict method."
   ]
  },
  {
   "cell_type": "code",
<<<<<<< HEAD
<<<<<<< HEAD
   "execution_count": 10,
=======
   "execution_count": 27,
>>>>>>> 11247a98b0ff85de5a589a23e4e0f44c7b49e901
=======
   "execution_count": 12,
>>>>>>> acd1dc85b4b5b5246dbd4bc5ceb4e91f4df892f9
   "metadata": {},
   "outputs": [
    {
     "name": "stdout",
     "output_type": "stream",
     "text": [
      "Test accuracy = 0.968198\n"
     ]
    }
   ],
   "source": [
    "def predict(X,w):\n",
    "    z = X.dot(w[1:]) + w[0]\n",
    "    yhat = (z > 0)\n",
    "    return yhat\n",
    "\n",
    "yhat = predict(Xts,w)\n",
    "acc = np.mean(yhat == yts)\n",
    "print(\"Test accuracy = %f\" % acc)"
   ]
  },
  {
   "cell_type": "markdown",
   "metadata": {},
   "source": [
    "This is not quite as good as the test accuracy for the `sklearn` method, which was about 98.5%.  The reason is that the learning rate was somewhat slow and we didn't yet fully converge.\n",
    "\n",
    "To see the effect of the learning rate, the code below tries different learning rates."
   ]
  },
  {
   "cell_type": "code",
<<<<<<< HEAD
<<<<<<< HEAD
   "execution_count": 11,
=======
   "execution_count": 29,
>>>>>>> 11247a98b0ff85de5a589a23e4e0f44c7b49e901
=======
   "execution_count": 13,
>>>>>>> acd1dc85b4b5b5246dbd4bc5ceb4e91f4df892f9
   "metadata": {},
   "outputs": [
    {
     "name": "stdout",
     "output_type": "stream",
     "text": [
<<<<<<< HEAD
<<<<<<< HEAD
      "lr=    1.00e-05  Test accuracy = 0.773852\n",
      "lr=    1.00e-04  Test accuracy = 0.968198\n",
=======
      "lr=    1.00e-05  Test accuracy = 0.681979\n",
      "lr=    1.00e-04  Test accuracy = 0.964664\n",
>>>>>>> 11247a98b0ff85de5a589a23e4e0f44c7b49e901
=======
      "lr=    1.00e-05  Test accuracy = 0.558304\n",
      "lr=    1.00e-04  Test accuracy = 0.968198\n",
>>>>>>> acd1dc85b4b5b5246dbd4bc5ceb4e91f4df892f9
      "lr=    1.00e-03  Test accuracy = 0.989399\n"
     ]
    },
    {
     "data": {
      "text/plain": [
<<<<<<< HEAD
<<<<<<< HEAD
       "<matplotlib.legend.Legend at 0x18f748d2048>"
      ]
     },
     "execution_count": 11,
=======
       "<matplotlib.legend.Legend at 0x1f4538be358>"
      ]
     },
     "execution_count": 29,
>>>>>>> 11247a98b0ff85de5a589a23e4e0f44c7b49e901
=======
       "<matplotlib.legend.Legend at 0x21d7ca6e208>"
      ]
     },
     "execution_count": 13,
>>>>>>> acd1dc85b4b5b5246dbd4bc5ceb4e91f4df892f9
     "metadata": {},
     "output_type": "execute_result"
    },
    {
     "data": {
<<<<<<< HEAD
<<<<<<< HEAD
      "image/png": "iVBORw0KGgoAAAANSUhEUgAAAYAAAAEACAYAAAC6d6FnAAAABHNCSVQICAgIfAhkiAAAAAlwSFlz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\nTkSuQmCC\n",
      "text/plain": [
       "<matplotlib.figure.Figure at 0x18f748924a8>"
=======
      "image/png": "iVBORw0KGgoAAAANSUhEUgAAAYQAAAEECAYAAAAoDUMLAAAABHNCSVQICAgIfAhkiAAAAAlwSFlz\nAAALEgAACxIB0t1+/AAAIABJREFUeJztnXd4VVXWh98VSCAVErqAlAEUkCaIWMCIKNjAgg5SFAZ1\n1LF9OkpQAVEElJGxjDjYAEexF0ClQwRsgEpHYCxIGYokEBJIIMn+/tj3Jjch5Sa5ybllvc9znpyz\nzz5nr5uTnN/da+29thhjUBRFUZQwpw1QFEVR/AMVBEVRFAVQQVAURVFcqCAoiqIogAqCoiiK4kIF\nQVEURQG8EAQRqSEi34nIjyKyUUTGucrjRWSRiGwTkYUiUsvjmtEiskNEtorIZR7lZ4vIBhHZLiLP\nVc5HUhRFUcpDqYJgjMkCLjbGdAE6A5eLSHcgCVhijDkDWAaMBhCRdsCNQFvgcmCaiIjrdi8DI40x\nbYA2ItLX1x9IURRFKR9euYyMMcdcuzWA6oABBgCzXOWzgGtc+/2Bd40x2caY34AdQHcRaQjEGmPW\nuOq96XGNoiiK4jBeCYKIhInIj8A+YLHrpd7AGLMfwBizD6jvqt4Y2OVx+R5XWWNgt0f5bleZoiiK\n4gdU96aSMSYX6CIiccAnItIe20soUM1XRomI5tNQFEUpB8YYKb1W0ZRplJExJg1IBvoB+0WkAYDL\nHXTAVW0P0NTjsiausuLKi2vL0W3cuHF+cb+yXOdN3ZLqFHeuLOW+/r0F8vOrymcXTM/PH55dVT+/\nsp4rrn5F8WaUUV33CCIRiQQuBbYCc4Hhrmq3AHNc+3OBQSISISItgFbAamPdSkdEpLsryHyzxzV+\nR2Jiol/cryzXeVO3pDrFnStL+W+//VaqDVWBPzy/qnx2JZ0PtOfnD8+urNdV1v9eced8/TtyI6Wp\nioh0wAaNw1zbe8aYp0QkAXgf+61/J3CjMeaw65rRwEjgJHCfMWaRq7wrMBOoCXxhjLmvmDaNL9RO\nqXqGDx/OzJkznTZDKSf6/AIbEcFUwGVUqiA4gQpC4JKcnFxp316UykefX2CjgqAoiqIAFRcEr0YZ\nKYq36DfMyqN58+bs3LnTaTMUP6BZs2aVEu9RQVCUAGHnzp0+GUmiBD75yR98fF9//ANTl5GinIrL\nHeC0GYofUNzfQkVdRprtVFEURQFUEBQfk5yc7LQJiqKUExUERVEUBVBBUHyMjjAKTVq0aMGyZcuc\nNkOpICoIiqIEDWPHjqVjx46Eh4fzxBNPlFp/1KhR1K1bl3r16pGUlFTg3M6dO+nduzfR0dG0a9eO\npUuXVsi2ktpq3rw5UVFRxMXFERcXR79+/SrUVnlRQVB8isYQlMLk5ORUWVutW7dmypQpXHXVVaXW\nnT59OnPnzmXjxo1s2LCBefPm8corr+Sdv+mmm+jatSspKSlMmDCBgQMHcujQoXLZVVpbIsLnn39O\nWloaaWlpLFiwoFztVBQVBEVRfMr48eO54YYbGDZsGLVr12bWrFmlX+Qjhg0bRt++fYmJiSm17ptv\nvsmDDz5Io0aNaNSoEX//+9/z8jht376dH3/8kccff5waNWpw3XXX0bFjRz766KO869944w3atWtH\nnTp1uPzyy/n999/L1ZYbfxhSrIKg+BSNISgAc+fO5cYbb+Tw4cMMGTKEd955h/j4eBISEoiPjy+w\nn5CQwO7du0u/qY/ZvHkznTp1yjvu1KkTmzdvBmDLli20bNmS6OjoIs/PmTOHyZMn8+mnn3Lw4EF6\n9uzJTTfdVK623AwZMoQGDRrQr18/NmzY4JPPWFZUEBQlSBDxzeYLzjvvPK6++moAatSowU033URq\naiopKSmkpqYW2E9JSaFJkya+abgMpKenU6tWrbzjuLg40tPTizznPn/06FHAuoBGjx5NmzZtCAsL\nIykpiXXr1rFr1y6KoqS2AGbPns1vv/3Gzp07SUxMpG/fvqSlpfnss3qLCoLiUzSG4BzG+GbzBU2b\nNi29ksPExMQUeOkeOXIkz9VU+Jz7fGxsLGADzvfddx8JCQkkJCRQp04dRIQ9e/YwadIkYmNjiYuL\n46677iq1LbACWqNGDWrWrElSUhK1a9dm5cqVlfbZi0MFQVEUn1M4187s2bPzXpKem7vMCZdR+/bt\nWb9+fd7xunXraN++fd65X375hYyMjLzz69evzzvftGlTpk+fTkpKSl5PJz09nR49ejB69GiOHj1K\nWloa06ZNK7WtonAqTYnfCkKHDvCXv8DLL8PatXDihNMWKd6gMQSlKAYPHpz3kvTc3GW+chllZ2eT\nmZlJbm4uJ0+eJCsri9zc3CLr3nzzzUydOpW9e/eyZ88epk6dyogRIwA7Wqlz586MHz+erKwsPv74\nYzZt2sT1118PwB133MHEiRPZsmULYL/xf/jhh8XaVVJbu3bt4uuvv86zd8qUKRw6dIgLLrjAJ7+T\nMuHk2qnFbYBZs8aYadOMGTHCmLPOMiYy0phzzjHmrruMmTHDmE2bjMnONooSMth/V/+kRYsWZunS\npcYYYx5//HEzbNgwR+wYPny4ERETFhaWt82aNcsYY8zKlStNbGxsgfqjRo0yCQkJpk6dOiYpKanA\nuZ07d5rExEQTGRlpzjzzTLNs2bIC59966y3ToUMHU6tWLXP66aebkSNHlmhbcW1t3rzZdOzY0cTE\nxJi6deuaPn36mB9++KHEexX3t+AqL/e7N2CynWZkwA8/wJo1+dv+/XD22XDOOflbixa+C4wpZUfX\nQ6g8NNup4qaysp0GjCAURUqKdSd5ikRWFnTrVlAkGjWqAqMVQAWhMlFBUNyoIHjJ3r0FBWLNGoiK\nKigQ3bpBfLyPjVaUSkYFQXGjglBOjIFffikoED/+aHsNniLRpYsVDkXxV1QQFDcqCD4kJwe2bi0o\nEps3Q+vW+QJxwQXQvr3GI8qKuowqDxUExY0KQiWTlQUbNuQLxLJlEBMDQ4bATTfZYLVSOioIlYcK\nguJGBaGKyc2Fb76Bt9+GDz6ANm2sONxwA9Sr56hpSoiigqC4UUFwkJMnYdEimD0bPv/cupMGD4YB\nA2wvQlGqAhUExU1lCYLfzlT2J8LD4corbW9h927bU5g9G5o0scLw+edWNBTNZaQogYwKQhmJickX\ngR074MILYdIkOO00uOsuWLXKupsUJZTQJTSDAxWEClCvXr4IrF4NTZvCHXdAy5YwejRs2uS0hVWP\nBpQVJwnUJTTdfPnll4SFhTF27NgKtVVeShUEEWkiIstEZLOIbBSRe1zl40Rkt4j84Nr6eVwzWkR2\niMhWEbnMo/xsEdkgIttF5LnK+UjO0KKFFYGNG2HuXNtLuOIK6NgRnn4a9u1z2kJFcQZdQrP0tsAm\n5rv//vvp0aNHudrwCaUlOwIaAp1d+zHANuBMYBzwQBH12wI/AtWB5sB/yQ9efwec49r/AuhbTJsl\npHUKHHJyjPnyS2Nuu82Y+Hhj7rvPmL17nbaqclm+fLnTJgQt/vx/0bx58wLJ7QYOHGiGDh1qatWq\nZV5//fUqt2fo0KFm/PjxJdY5//zzzauvvpp3/MYbb5jzzjvPGGPMtm3bTM2aNU16enre+V69epnp\n06fnHb/++uumbdu2JiEhwfTr18/s3LmzXG25mTx5shk1apQZMWKEGTNmTIm2F/e3QAWT25XaQzDG\n7DPGrHPtpwNbgcau00VFswcA7xpjso0xvwE7gO4i0hCINcascdV7E7jGC80KWMLCoFcveOUVO/Et\nLMxOdrv3Xtizx2nrFKXy0CU0vW8LrHtqxowZjB071tGRZNXLUllEmgOdsd/0LwTuFpFhwFrgQWPM\nEaxYfONx2R5XWTbg+dR3ky8sQU+jRjB1Kjz8MEyZYtd7GDwYkpLsaKVgQWMIziHjfTOt3oyr+Aup\nqCU0S3phOkF5ltDcu3cvUHAJTYCkpCSeeuopdu3aVeRqcaUtoXnfffcxYcIEohzOn+O1IIhIDPAh\ncJ8xJl1EpgFPGGOMiEwAngVu9ZVhw4cPp3nz5gDUrl2bzp07571s3EMbA/G4YUO4+upkLrgAvvkm\nkY4doVevZAYPhhtvdN4+Pfbf49LwxYvcV4TKEpoPPvggYF3v7iU033rrLSZOnIiIMHToUKZNm1Zi\nW/PmzePo0aMMHDiwzJ8hOTmZmTNnAuS9LyuEN34lrHAswIpBUeebARtc+0nAKI9zC4BzsbGIrR7l\ng4CXi7lfif6zYGL/fmMeesjGGO6805gS3JABgcYQKg9//r8oHEMovEDO22+/bWJiYkxsbGyBzV22\na9cun9rjbQzhtddeyzt+7bXX8vz627dvN5GRkQViCD179syLIfTt29fMnj3ba3tKauv+++83tWrV\nMg0bNjQNGzY0kZGRJjY21lxzzTXF3q+4vwUqO4bg4g1gizHmeXeBKybg5jrAPchyLjBIRCJEpAXQ\nClhtjNkHHBGR7mIXXL0ZmOO9dAUn9evDM8/Atm0QGwudO9uhqzt3Om2ZovgOXUKz+LYmTJjA9u3b\nWb9+PevXr6d///7cdtttzJgxwye/kzJRmmIAFwA5wDrs6KEfgH7YoPAGV/mnQAOPa0ZjRxdtBS7z\nKO8KbMQGmp8voU2vlTfYOHjQmKQkYxIS7Oik3budtkjxF/z5/0KX0Cz/EppFfQanRhlpLiM/5Y8/\n4B//gNdfhyeegL/+1Y5SUkIXzWWkuNHkdiHK5s1w661QrRq8+iq0beu0RSWj6a8rDxUExY0mtwtR\n2re3qTEGDYKePW1v4cQJp61SFCUY0R5CALFrl82d9Ouvtrdw3nlOW6RUJdpDUNyoy0gB7BrR778P\n998PAwfCxIl2dJIS/KggKG7UZaQAdo3nP//ZxhYyMqxL6bPPnLYqH10PQVECFxWEACUhAd54A2bM\nsL2FQYOgnIkYFUVRABWEgOeSS2DDBmjYELp1g++/d9YeHWGkKIGLCkIQEBUFzz1nZzz362d7Doqi\nKGVFBSGIuOEGWLHCZlO9/XbIzKx6GzSGEJroEprBgQpCkNG2rV3OMzXVrvesOZGUUCJQl9Ds3bs3\n9evXp3bt2nTp0oW5c+dWqK3yooIQhMTG2qGpgwfDuefCokVV17bGEJTC6BKapbf1/PPPs2fPHg4f\nPsz06dMZOnQo+/fvL1dbFaIiiZAqa8OPk3gFGl9+acxppxnz5JN2SU8lcPHn/wtdQrPiS2i6+e67\n70xkZKRZs2ZNsfcr7m+BKkp/rQQovXrBmjWwYAFccw14LNJUKWgMQQFdQrMsbbm5+uqriYyMpEeP\nHlx88cV069bNJ5+zLKgghACnnQbLl0ODBtC7t82kqgQhIr7ZfEBRS2impqaSkpJCampqgf2UlBSf\nrYdQFsqzhObRo0eBgktohoWFkZSUxLp169i1a1eZ23Izb9480tPTmT9/PpdeeqlPPmNZUUEIEcLD\n4ZVXoE8fmyTv998rpx2NITiIMb7ZfECoLKGZkJBAQkICderUyVtCc9KkScTGxhIXF8ddd91Value\nVKtWjb59+7Jw4UI+cyAFgQpCCCFicx/dfrsVha1bnbZICVakUE9j9uzZeS9Jz81d5oTLqH379qxf\nvz7veN26dbRv3z7v3C+//EJGRkbe+fXr1+edb9q0KdOnTyclJSWvp5Oenk6PHj0YPXp03kpw06ZN\nK7WtosjOzubnn3/26ef1BhWEEOT//g+efNK6j1av9u29NYagFIUuoVl8W9u2bWPBggVkZmaSnZ3N\nW2+9xcqVK7nooot88jspExWJSFfWhh+Ppggm5s41pl49YxYt8t09ly9f7rubKQXw5/8LXUKz/Eto\nbt261Zx77rkmLi7OxMfHm+7du5s5c+aUeK/i/hbQJTSVirBqFVx/Pbz4Itx4o9PWKCWh6a8VN5WV\n/rp6haxSAp4LL4TFi+HyyyEtzS7XqShKaKIxBIWOHeHLL+Hxx+Httyt2L40hKErg4r89hNxcCFO9\nqipatYKFC2067ehoO4lNUZTQwn9jCN99B927O21KyPH999Z99Pbb4NDcGKUYNIaguAm9JTTnzHHa\ngpCka1f4+GObGG/VKqetURSlKvFfQXAo/atiA82zZ8N115V9BTaNIShK4OK/MYSDB+GXX6BlS6ct\nCUkuvdSmurjySli6FEqYVKlUEc2aNTtlBrASmjRr1qxS7uu/MYSRI+Gss+wK8opjvP02jBoFX38N\np5/utDWKopRE8MYQ+vdXt5EfMGSITXXRv3/lp85WFMVZ/FcQ+vSBtWvtWpCKozzwAHTrZsWhtMWv\nNIYQ2OjzC21KFQQRaSIiy0Rks4hsFJF7XeXxIrJIRLaJyEIRqeVxzWgR2SEiW0XkMo/ys0Vkg4hs\nF5HnSmw4Kgouvhi++KICH0/xBSIwbZqdyVxoKVhFUYKIUmMIItIQaGiMWSciMcD3wABgBHDIGPOM\niIwC4o0xSSLSDngbOAdoAiwBWhtjjIh8B9xtjFkjIl8AzxtjFhbRps1l9PrrdkHg997z5WdWyklK\nCvToYWMKI0c6bY2iKIWp9BiCMWafMWadaz8d2Ip90Q8AZrmqzQLcc1v7A+8aY7KNMb8BO4DuLmGJ\nNcascdV70+OaornqKisIJ06U6UMplUNCAnz2GTzyCKhnQVGCjzLFEESkOdAZ+BZoYIzZD1Y0gPqu\nao0Bz3Xk9rjKGgOeq2DsdpUVT4MG0Latvn38iDZt4J134M9/hh07Tj2vPujARp9faOP1PASXu+hD\n4D5jTLqIFPY1+XT86vDhw2nevDlERVH7iSfoHBGRtzyj+49Wj505DgtLZtgw6N8/kTVrYO1a/7JP\nj/U4VI6Tk5OZOXMmgH1fVhCv5iGISHXgM2C+MeZ5V9lWINEYs9/lDlpujGkrIknYRRqedtVbAIwD\ndrrruMoHARcZY+4sor389RC2bIF+/WDnTp8tAK74hpEjITMT3npLH42i+ANVNQ/hDWCLWwxczAWG\nu/ZvAeZ4lA8SkQgRaQG0Ala73EpHRKS72OmWN3tcUzxt20KNGuCxHqniH/zrX7BpE0yf7rQliqL4\nAm+GnV4ADAF6i8iPIvKDiPQDngYuFZFtwCXAZABjzBbgfWAL8AVwl8fyZ38DXge2AzuMMQtKtVDE\nzorSZHd+R2QkfPABjBmTn/PI3Z1VAhN9fqFNqTEEY8xXQLViTvcp5ppJwKQiyr8HOpTFQMAKwgMP\nwLhxZb5UqVzatLFzFG68seyJ8BRF8S/8N5eRp13Z2dCwIaxbB02aOGeYUiz33gu7dtnU2RpPUBRn\nCN5cRp5Urw5XXKG5jfyYf/wD9u6FqVOdtkRRlPISGIIAmuzOz4mIgPffhyefTObHH522RikvGkMI\nbfxWEE5xZfXta3Mwp6U5Y5BSKs2awd/+BkOHwvHjTlujKEpZ8VtBmLOt0Kii2Fi44AK7Erzit0yY\nkMhZZ8Ho0U5bopQH9+QnJTTxW0EYvXQ02bnZBQvVbeT3iMDLL8OHH8KSJU5boyhKWfBbQWgQ3YBZ\n62YVLLz6apsOOzu76IsUx0lOTiYhAWbMgBEjdDmLQENjCKGN3wrC5D6TefzLxzl+0sMZ3aQJtGgB\nq1Y5Z5jiFZdeCtdeC3fd5bQliqJ4i98KQo8mPejeuDsvrn6x4Al1G/k1nj7oyZPt1JF333XOHqVs\naAwhtPHriWk//fETPWf0ZPvd24mPjLcn162DgQNt7mWdAeX3rF5tNXzTJqhb12lrFCW4CeqJaWfW\nPZNrz7yWp796Or+wUyc4edJmQVX8jsI+6O7d4aab4P/+zxl7lLKhMYTQxq8FAWDcReN49YdX2Z3m\nWlvHnexO3UYBw4QJNuwzf77TliiKUhJ+7TJyk7QkiUPHDvFq/1dtweLFMHYsfPONQxYqZWXRIrjt\nNus6io112hpFCU4q6jIKCEFIPZ5Km3+1YcXwFbSt19ausdygAWzdapPeKQHBiBEQEwMvvlh6XUVR\nyk5QxxDcxEfG8/D5D/PoskdtQUSETWXx2WfOGqacQkk+6GefhY8+shlIFP9EYwihTUAIAsDd3e9m\nzd41fLv7W1ugcYSAIyEBnnsObr/djgtQFMW/CAiXkZs3fnyDWetnkXxLMnL4sM2mtm8fREU5YKVS\nHoyxnbu+feHBB522RlGCi5BwGbm5udPNHMw4yPz/zof4eDjnHBtgVgIGEbsW86RJsGeP09YoiuJJ\nQAlC9bDqTLpkEklLksjJzVG3kR/ijQ+6TRv461+1h+CPaAwhtAkoQQDof0Z/YmvEMnvjbCsIn30G\nOTlOm6WUkUcfhW+/haVLnbZEURQ3ARVDcLNy50qGfTKMbXdvo8bZ58C//w3nn1+FFiq+YM4cSEqC\n9evtwDFFUSpGSMUQ3PRs1pMODTrw8tqX1W0UwPTvDy1bwj//6bQliqJAgAoCwMTeE5m0ahLp/S5R\nQfAjyuKDFrHDUKdMsYPFFOfRGEJoE7CC0KFBB/q16seUrGVw+LDNfqoEHK1bw/DhMGaM05YoihKQ\nMQQ3Ow/v5OxXzmbXT1cQ1b6zDlsJUA4fhjPPhAULoHNnp61RlMAlJGMIbprVbsYtnW5h5ukp6jYK\nYGrXhscfh/vvtxPXFEVxhoAWBIBHej7CU+HfkvPjD3DokNPmhDzl9UHfeiukpMAnn/jWHqVsaAwh\ntAl4QagbVZe7ej7A921rweefO22OUk6qV7ejjf7+d8jKctoaRQlNShUEEXldRPaLyAaPsnEisltE\nfnBt/TzOjRaRHSKyVUQu8yg/W0Q2iMh2EXnOlx/i/h73M7tFOqnvzfLlbZVyUJE1eS+5BNq1s9NK\nFGfQNZVDG296CDOAvkWUTzXGnO3aFgCISFvgRqAtcDkwTSRv4eOXgZHGmDZAGxEp6p7lIjoims4j\nHyU8eQVkZvrqtooDTJoEEydCWprTlihK6FGqIBhjVgGpRZwqKpI9AHjXGJNtjPkN2AF0F5GGQKwx\nZo2r3pvANeUzuWiG9L6fnxpW58fZU315W6WMVNQH3aGDzYT67LO+sUcpGxpDCG0qEkO4W0TWichr\nIlLLVdYY2OVRZ4+rrDGw26N8t6vMZ4RXCyf8muv5edY/yTW5vry1UsU88YTNiHrggNOWKEpoUb2c\n100DnjDGGBGZADwL3Oo7s2D48OE0b94cgNq1a9O5c+c8/6b7W0zh4163PUqjN97n8RmP07tl71Lr\n67HvjxMTEyt8v99+SyYxESZMSOSFF/zr8wX7sS+enx5X3XFycjIzZ84EyHtfVgSvJqaJSDNgnjGm\nY0nnRCQJMMaYp13nFgDjgJ3AcmNMW1f5IOAiY8ydxbTn1cS0osj40+kMvc7w/uRfCK8WXq57KM5z\n4AC0bQtr1th8R4qilE5VTUwTPGIGrpiAm+uATa79ucAgEYkQkRZAK2C1MWYfcEREuruCzDcDc8pr\ndElEXz+Igf+N4LUfXquM2yul4P72UlHq14d774WxY31yO8VLfPX8lMDEm2Gns4GvsSODfheREcAz\nriGk64CLgP8DMMZsAd4HtgBfAHd5fNX/G/A6sB3Y4R6Z5HP69+fa7dV5csWTpJ9Ir5QmlKrhgQdg\nyRKbHltRlMonoHMZFUlODjRqxD3jz6VB+3N5rNdjvjVOqVJefNHmONI5h4pSOiGdy6hIqlWDK69k\n7JGzee7b5/jj2B9OW6RUgNtvhy1bYMUKpy1RlOAn+AQBoH9/6i39mkFnDeKpFU85bU1I4WsfdI0a\n8OSTMGqUJr6rCjSGENoEpyBcdhl89x1jO93Hmxve5LfDvzltkVIBBg+GY8fskpuKolQewRdDcHPV\nVTB0KOMabOXXw7/y5rVv+sY4xRE++wweeQTWrYOw4PwaoygVRmMIxeFaa/nB8x9k0c+L2LB/Q+nX\nKH7LlVdCzZrw8cdOW6IowUvwCsJVV8GCBcSFRfJIz0d4ZOkjTlsUElSWD1rELqIzfjzkamaSSkNj\nCKFN8ArCaafZBXtXrOCvXf/K5oObWbFTh6oEMpdfDpGR2ktQlMoieGMIAE89ZXMgPP88b214i5fW\nvMTXf/ma/IzcSqDxxRd2xNH69RpLUJTCaAyhJFxxBIxhcIfBHD95nDnbdKhKIHP55RAVBR995LQl\nihJ8BLcgnHWWdT5v3EiYhDHpkkmMXjqa7Nxspy0LWirbB62xhMpFYwihTXALgkh+LwHo16ofDWMa\nMmudLrUZyPTrBzEx8OGHTluiKMFFcMcQAJYtg6QkWL0agO92f8fADway/e7tRIZH+qYNpcpZsAAe\nfBA2bLDZShRF0RhC6fTsCf/9L+zdC8C5Tc6le+PuvLj6RYcNUypC374QG6u9BEXxJcEvCOHhNhI5\nb15e0cTeE5ny9RRSjxe1VLRSEarKB+0ZS8jJqZImQwKNIYQ2wS8IUCCOAHBG3TO49sxrmbxqsoNG\nKRWlb1+oVQs++MBpSxQlOAj+GALAkSPQtKl1G8XEALAnbQ8d/92R9Xesp0lcE9+1pVQpX3wBDz9s\nYwk6L0EJdTSG4A21akGPHrBoUV5R47jG3H727YxPHu+gYUpFufxym+Po00+dtkRRAp/QEAQ4xW0E\nMOrCUczZNoetB7c6ZFTwUdU+aBF47DGYMEHXS/AFGkMIbUJHEK6+2q7D6BGBrF2zNg9f8DCPLnvU\nQcOUitK/P2RnW/eRoijlJzRiCG66dIEXXrBDUV1kZmfS5sU2vH/D+/Ro0sP3bSpVwvvvw9Sp8M03\nttegKKGIxhDKQhFuo5rVa/J44uOMWjIKfxRHxTuuv96OHViyxGlLFCVwCXlBALi50838cewP5v93\nvgNGBRdO+aCrVYNHH7XrLyvlR2MIoU1oCcLZZ0NGBvz0U4Hi6mHVmdh7IklLksjJ1VlOgcqgQXZk\n8ZdfOm2JogQmoSUIhZLdedL/jP7E1ohl9sbZDhgWPCQmJjrWdvXqMHq09hIqgpPPT3Ge0BIEKFYQ\nRITJl0xmzPIxZGVnOWCY4guGDYMdO2xwWVGUshF6gnDxxbBpk11JrRA9m/WkQ4MOvLz2ZQcMCw6c\n9kFHRNjkthMmOGpGwOL081OcJfQEoUYNuPRSOyehCCZdMolJqyaRlpVWxYYpvmLECLvE5vffO22J\nogQWoTVQratBAAAgAElEQVQPwc1//mNXav/kkyJPD/90OE3jmvJkb3VGByrPPw/JycU+YkUJSip9\nHoKIvC4i+0Vkg0dZvIgsEpFtIrJQRGp5nBstIjtEZKuIXOZRfraIbBCR7SLyXHkN9glXXmkXzjl+\nvMjT4xPHM23tNA4dO1TFhim+4rbb4NtvbdI7RVG8wxuX0Qygb6GyJGCJMeYMYBkwGkBE2gE3Am2B\ny4FpInnzRl8GRhpj2gBtRKTwPauOhAQ7a3np0iJPN6vdjOvbXs9z3zqrW4GIv/igo6LggQfgqaec\ntiSw8JfnpzhDqYJgjFkFFF5JZgDgXph4FnCNa78/8K4xJtsY8xuwA+guIg2BWGPMGle9Nz2ucYZi\nRhu5eaTnI7y89mVdRCeAufNOWL4ctmruQkXxivIGlesbY/YDGGP2AfVd5Y2BXR719rjKGgO7Pcp3\nu8qco39/u4pabm6Rp5vXbs6AMwbw/HfPV7FhgY0/jWOPiYF774WJE522JHDwp+enVD3VfXQfn0eA\nhw8fTvPmzQGoXbs2nTt3zvtjdXdrK3yckABr1pDsiiUUPv9Iz0c497Vz6XaiGzERMb5vv7Tj6Gho\n2JDkn3+umvaC8Piee+D005N5+20YMsR5e/RYj315nJyczMyZMwHy3pcVwatRRiLSDJhnjOnoOt4K\nJBpj9rvcQcuNMW1FJAkwxpinXfUWAOOAne46rvJBwEXGmDuLaa9yRxm5GT3aLrNVgqP5lk9voXVC\nax7r9Vjl21OYLl3guutgzJiqb7ucJCcn5/3h+gtjx9qUFq+95rQl/o8/Pj/Fe6oq26m4NjdzgeGu\n/VuAOR7lg0QkQkRaAK2A1S630hER6e4KMt/scY1zlBJHAHi056O88N0LVT8vYcsWWLcOfvyxatsN\nQu6/3w4/3bnTaUsUxb8ptYcgIrOBRKAOsB/7jf9T4AOgKfbb/43GmMOu+qOBkcBJ4D5jzCJXeVdg\nJlAT+MIYc18JbVZNDyE3F047Db7+Glq2LLba0I+H0r5ee0b3HF35Nrl57DE7ZnLjRvj116prN0hJ\nSoK0NJg2zWlLFKXyqGgPITQnpnly661w1ln2a2QxbD24lcRZifx878/ERMRUvk3GwJ/+BB98AImJ\n9qttQkLltxvEHDgAZ55p9bWxs8MZFKXS0AVyKooXbqO29dpycfOLmbamir5efvONTbFx9tnQqZN1\nHQUI7oCXv1G/PgwfDlOmOG2Jf+Ovz0+pGlQQ+vSBtWshJaXEamN6jWHqN1PJOJFR+TbNng1Dhth0\n3V26aBzBRzz0ELz5Juzf77QliuKfqCBERdkMqPNLXi2tff329GzWk+nfT69ce06etAsEDx5sjwNM\nEPx5hEqjRvbX+uyzTlviv/jz81MqHxUE8MptBPBYz8eY8vUUjp8sOgeST1i8GFq1yg9yB5gg+DsP\nP2yHnx7SNFWKcgoqCABXXQWLFsGJEyVW69SwEz2a9OCV71+pPFvefju/dwDQvr0dZXTsWOW16UP8\n3Qd9+ulw/fXwnKapKhJ/f35K5aKCANCgAbRta/Mll8LYXmN55utnyMzO9L0dGRl2nYYbb8wvi4iA\nM86ww2MUnzB6NLz8Mhw+7LQliuJfqCC48dJt1KVRF7o26srrP7zuexvmzIHzz7dDYjw5++yAcRsF\ngg+6ZUubAf3FF522xP8IhOenVB4qCG7cguDF/IexF41l8leTfb/2sk24c2p5ly7www++bSvEeeQR\neOEFOHrUaUsUxX9QQXDTtq0d++/FmP9up3WjY4OOzFg3w3ftHzwIX30FAwacei6AAsuB4oM+4ww7\n4lhnLhckUJ6fUjmoILgR8dptBHZewqRVkziRU3Ig2mvefx+uuMLmbC5Mp06webMdkqr4jEcfhX/+\n04ZuFEVRQShIGQShR5MenFn3TN5c/6Zv2nZPRiuKmBho2hR++sk3bVUigeSDPuss6NXLuo4USyA9\nP8X3qCB4csEFNm/Qrl2l18WOOJq4ciIncyr4zf3XX2HHDrjssuLrBJDbKJB46ik7Ue2PP5y2RFGc\nRwXBk+rVrdtm3jyvql9w+gW0jG/JWxveqli7s2fDDTdAeHjxdQJEEALNB926Nfz5zzBhgtOW+AeB\n9vwU36KCUJgyuI3Ajjh6auVTZOdml689Y06djFYUATT0NNAYOxb+8x/45RenLVEUZ9H014U5etTm\nR969G+LivLokcWYiI7uMZFinYWVvb906uPZa+zaSErLW/vGHTWmRkmJXeVN8yhNP2BDN7NlOW6Io\n5UfTX/ua2FgbS1i40OtLxl40lgkrJ5CTm1P29ty9g5LEAKBuXWubLpZTKTzwgJ2ovnat05YoinOo\nIBRF//7w8cdeV7+4+cXUj67Pe5vfK1s7OTnwzjvFjy4qTADEEQLVBx0TA+PG2eR3fthprjIC9fkp\nvkEFoShuuAFWr4aJE716O4gIY3uNZcKKMvYSVqyw3/zbtfOufgAIQiAzcqRdWa0M3wUUJahQQSiK\nunVh5Ur77f2hh7wShT4t+1CrZi0+2vqR9+2UNPegKAJAEAJ5HHv16vDSS9Z9FKqT1QL5+SkVR4PK\nJZGSYrOgtWsH06fbN0YJzN8xn4cWP8SGOzcQJqVobVYWnHYarF8PTZp4Z8/OndCjB/zvf15+AKU8\nDBkCzZrZDqKiBBIaVK5MEhLsgjW7dtnB6lklJ7Pr16ofUeFRfLL1k9Lv/cUX0LGj92IANpl/Vhbs\n2+f9NVVMMPigp0yBV16B7dudtqTqCYbnp5QfFYTSiImxE9VE7EI66enFVhURxl40lidWPEGuyS35\nvsVlNi0JEZ2PUAWcdprNhnrPPaEdYFZCDxUEb6hRA959135D79PHupKK4crWV1JNqjFvWwmznY8c\nsT2P668vuy1+HkcIFh/0PffAnj3w4YdOW1K1BMvzU8qHCoK3VK9uF+Pt2dNmRNu7t8hq7l7C+C/H\nU2wc5OOPoXdviI8vux26NkKVEB4Or74K995rM5MrSiigglAWROCZZ6yrp2dP+PnnIqsNOGMAuSaX\nz3d8XvR9yuMucuPnPYRg8kGfdx4MGwZ33hk6rqNgen5K2VFBKCsidlHehx6yPYUi1joWEcb0GsMT\nXz5xai9h7174/ns7eqk8tGkD+/dbt5NS6TzxBGzdCu+Vcc6hogQiKgjl5Y47bN7kPn3gm29OOX1t\n22s5dvIYC38ulALj3XfhmmsgMrJ87VarBh06eLWymxMEmw+6Zk2YORPuu8+vB3f5jGB7fkrZUEGo\nCIMGwYwZNtXFokUFToVJGGN6jTk1llDWyWhF4eduo2DjnHPgtttgxAjILWXwmKIEMhUSBBH5TUTW\ni8iPIrLaVRYvIotEZJuILBSRWh71R4vIDhHZKiIlrAYTQFxxBXzyCQwdesqQlIHtBnIk8whLflli\nC7Ztsy6jiy+uWJt+PPQ0WH3Q48bZEceTJjltSeUSrM9P8Y6K9hBygURjTBdjTHdXWRKwxBhzBrAM\nGA0gIu2AG4G2wOXANJHSUnwGCBdeaHsI994Lr7+eV1wtrBqP9Xosv5fw9tu2V1GtWsXa0x5ClRMe\nbuMIL70ES5c6bY2iVA4VSl0hIr8C3YwxhzzKfgIuMsbsF5GGQLIx5kwRSQKMMeZpV735wOPGmO+K\nuK9/pK4oK9u322Uw//Y3G3QGcnJzaDetHc9d9k8uv/we+1bp1q1i7WRl2SGrKSnWya1UGcuWWY/f\n2rV22QxF8SecTl1hgMUiskZEbnWVNTDG7AcwxuwD6rvKGwOeixXvcZUFD23awKpV8MYbdiSSMVQL\nq8ZLV7zE8y8OIcOcgK5dK95OjRp27cciRjgplUvv3nbS2nXXwbFjTlujKL6l5GxtpXOBMeZ/IlIP\nWCQi27Ai4Um5vuoPHz6c5s2bA1C7dm06d+6cNwLC7ef0y+MmTUiePBkefpjE1FR46SWq/16dkTs6\n8K9W39N2+zzi/hdX8fYaNSLxxx/hnHP86vN7+qD9wZ7KOD7vvGS+/BIGDUrk449h1Sr/sk+fX+gc\nJycnM3PmTIC892VF8Fm2UxEZB6QDt2LjCm6X0XJjTNsiXEYLgHFB5TLyJC0NBgyABg1sj6FFCzZ8\n9DKXfXsXU/tOZXCHUtZQLo3nn7drPr78sm/s9RHJycl5f7jBzIkTNrVVy5b2EQRJNCxknl+w4pjL\nSESiRCTGtR8NXAZsBOYCw13VbgHmuPbnAoNEJEJEWgCtgNXlbd/viYuD+fPh+HEbM2jRgo4XXsfS\nm5fy8OKHeXlNBV/kfhpYDpWXSUQEfPQRfPedHYEU6N9f3ITK81OKpiIuowbAJyJiXPd52xizSETW\nAu+LyF+AndiRRRhjtojI+8AW4CRwV+B3A0qhZk371rjvPrtOM9C+fntWjFhBnzf7cCTrCEkXJpXv\n3p07w6ZNdhnOio5aUspFbCwsWGDnJp48addPCJaeghKa6AI5DrEnbQ+X/udSBpwxgImXTKRcI3Bb\nt4Y5c7xfgrO8GOP1my4UXQ5//GEHl110EUydGtiiEIrPL5hwepSRUk4axzVmxYgVLP5lMXd/cXfp\n6ycURVW4jX79Fc48U1N+lkDdunZuwrffwuDB1kuoKIGICoKD1I2qy7JblrHp4CZu+fQWTuacLNsN\nqiIV9qhRkJoK//qXV9VD9dtlfLydoxAWZnsKxWRH93tC9fkpFhUEh4mrEcf8IfM5dOwQN3xwA5nZ\nmd5fXNk9hFWr7NfexYvtUJrSVp7PzLRR1hAlMhLeesvmLuzWza6SqiiBhAqCHxAVHsWngz6lRvUa\nXDX7KtJPFL9MZwG6dLFZTysj3pKbC/ffD5MnQ6dONtX3a6+VfM0//kFyYmKJy4wGOyJ2+c133rHr\nKNx1Fxw96rRV3uM5D0EJPVQQ/ISIahHMvm42LWq34NL/XErq8dTSL2rQwI5k2rnT9wb95z82gc9N\nN9njUaNsxPRkMW6tQ4fguefsMqMffOB7ewKMiy6C9evtbOa2bW2S2yAfJ6EEATrKyM8wxvD3RX9n\nya9LWDh0IQ1jGpZ8wZVXwq23wrXX+s6I9HQbSP7wQ+jRI7+8d2+bA3rYsFOvefhhOxnv8sthyhTr\nblIA+Oorm+4iPBzGj4e+fQN7JJLiv+gooyBDRPjHZf9gYNuB9JrRi+TfkjmRc6L4CyojFfYzz9iv\nuJ5iALaX8PTTpy4KsGePzfI6ZoxNB/7zz3YWtQLYKShr18KDD9qtWze7XnMIe9YUP0V7CH7MGz++\nwbQ109iRsoPE5on0/VNfLvvTZbRKaJVf6eOP7SI98+b5ptHff88PVp9+esFzxlgBevJJm7fBzR13\n2JnZzzxjx7HPn2/rPvOMb2wKInJzYeFCmD4dVqyAgQNtoryLL7Y5C51G5yEENhXtIaggBAAHMw6y\n5JclLPx5IYt+XkRkeGSeOFxCS2L7XAG7d/umsSFD4E9/sosJF8U778C0abBypT3escOuRr9tG9Sp\nY18ojRrZHsauXdZP4sny5bB5M9x9t2/sDWD27LFLZMyZY38lffpAz552eY1OnaB6RVNPlgMVhMBG\nBSHEMMaw6cAmFv68kIU/L+TbXd+w96ksXnn7AZq27krDmIZ5W2xEbNlmQH/7rf3K+tNPEBNTdJ3s\nbJvm+6234PzzbdC5fXt47LGC9Xr2tP6Ra67JL0tNtetBp6fb1N1Nm5b9FxCk7N9v11j66isbfvn9\nd/urat/eTkRv185OTG/c2OZRUpSiUEEIcY6dPMbxnufxUf/WLGoF+zP2sy99H/vS95GTm1NAIOpH\n1yeuRhwxETFEh0cTExFj9yOiiQmP5twb/o/DwweRPWyILYuIIbJ65KmiMm2a9XuMH2+DyDt2nCog\nM2faPE6erqybb4ZatSA6Gg4fhn//+9QP9N57VkT8wX/iIKmpsGEDbNmSv+3YAfv2QZ06VkubNoX6\n9e2x51a3LiQkWC9ebKydH6FB7NBABUGBBx6wb4akgony0k+ksz89XyAOZBzg6ImjpJ9IJ/1EOhkn\nMshNTaHppl10WbubVr8c5sa/NyM951henRM5J4gKjyI6PJroiGiiw6NJIJKPR6/jcO2arLikNV8N\n6JJ3bv/m/XTo3oG47GoMvjKJ5HkvUq1JU5os/54WE15iz4rPic6tRr2uPTHffku1Vq3zDX7vPbvE\n6LPP2s9UmNxcOxU4hMnOtqKwa5fdDh60I34LbykpdtDX0aN2pHBMjBUH90/PzbNs375kunRJPKXc\ncz8qSgXGX1FBUOycgc8+sy/UkjDGjgD66qv87fffoXt3OxRm+HCb4N+DnNwcMk5mkHEio8DP+v98\nhdPe+4I5c57hqJzIK9+yZgt129Ul40QGg19MZnfdCD7pWZdXH/2OB//SmJXNIONEBvctSKXxoWzu\nvKEmsRGx/Ckzis+m7OHVP7fijvd/YfS066geX5daNWsRVyOOS19ZRsLBo2x+/lFq1bBl7nOxEbFU\nC9OMr8WRnW29dEeP5m/FHW/dmkzt2olF1nPvZ2baTp6nUBQnHp77tWrZFB+1a9stPt5Oo1Fx8R0q\nCIqNSF57rV3T2ZN9++x4R/e2Zo0N8l5wQf5W3ujlyZM2zWejRsXX+e47GDrUjrNs2BD++c/8c0eO\nYFq35vji+Rxt2Zjo628irf2f2HrPTfzpoUmk1arB8tsvIy0rjdo/bOHmJ+eQLfDkPR1Z3TSMI1lH\nSD9+hDem7+Olrrks6RhDrZq1SIhMoF54bWrF1CEhsg4JkQnFbnWi6hTtElNKJCfHZjEpTjCK2z98\nOH9LTbU/c3MLCkRp+55usehoFZPCqCAo9itgrVp2OuzGjfkC4F6cx7117Wodz1X1X2SMjYyeOGFT\nbERFFTz/9NM2OV/fvvDii1ZAIiLsiKlOnexU3zp17DDYp56yb5BZs+DLL+1n+Ne/4NlnMeHhpH3/\nNYdzMkg9nkKz60bwvy6tWTXyUlKOp5By7BB1127h25YRpGSm2jLXlmtyTxGKelH1qBddL+9n/ej6\nBcpqVA/t+IYvycw8VSQ89wuXpaTY7yF//GHFxC0OdesWv+95HOwiooKgWAYPhgMH8l/83bpB8+ZV\n/td/yrDFVavsV7z27U+tnJEBrVpZwUhOtuLhZvRo6yBPSLCpOd57zwpfx452fkOnTnZOxMqVdgjr\njTfC7bdbwZgyBf73P9i61cZW5s2D/v1tIPyyy6xQPfgg3Horx1u3IDUzlbRftnKgVnUOHU/h4LGD\nHMw4yIGMA3bfdez+WbN6TSsSbtEoRjjcdWpWr1nZv3afEUjDTo8dy4+ZuEWitP2cHCsO9evbrUGD\ngj8L7wfaiC4VBMWvKPML5d13rU/h1lsLlh8+bIe3hoXZXk+9erZ87lybPa5FCzjnHBg71rrCrr3W\n9jC6drXxlJkz7Uilp56Cs86yM782boRvvrFLm15zDVx9tR0J5V7z4ZNP7Ezr1attnXHjbJtr1liB\ntf9sHMk6kicQBzIOFBCLvDKPc5HhkdSPrp+/RdUveOyxJUQmOBoPCSRBKA/Hj1thOHjQDvU9cMBu\n7n3PsoMHbY+iOMEoXBYX53zvQwVBCV4++shGIy+7LL/MGDvHISXFzqZ2D08dONC+yK++Gl56yfYQ\nzjrL9px27bL36tgRJk2yKTjGj7dLmy5aZDO6/vyzXYp01So7v+L7720P49AhOPdcWLLEZny94AJ7\n/27d7JqZ99xj3xobN9plTd1pPVyjodwCciDjgFfbkawjJEQmeC0gMRExGgOpJHJz7feSooSjKBHJ\nyjpVKIrqddSvb7/fVEbvQwVBCT1+/932/Vu0yC/76Sf78l+61LqowCbce+EFO4i/ZUubhXXECJuj\nafFiO7z1vffslOGtW+1L/uqr7T2uvNI6rX/91Tq6a9a0bql777W9iL/+1U4tnjrVzhYbMsTa9cwz\n9mviE0/AyJHWhbV4sU15WqeOFZhWray7LDr6lI+WnZvNH8f+KCASbvfVgYwDHDhWUECyc7NPFYpi\nBKRedD0iqgWYDySAOH48XywKb55C4u59xMaeKhzFCUrt2t71PlQQFL/Cr1wOaWk2aO22JzfXznMY\nMyZ/xnSLFjY30x132AR9t95qYw7du9upwfHxsGmTdV/l5MAbb9gJdk2b2p7EggW2TmYmXHKJHQIs\nYueEjBpl648aZYWmRg1rz9//bm147z073+K11+wkvb/9zbq9zj3Xft2Mi7MiYkyxI8GOnTxWUDA8\nt0LicTDjINER0SWKx56Ne+h7SV/qR9cnPjKeMAnteR+VRW6u/b7hjXgcOGDFpl690sWjWzcVBMWP\n8CtB8IYDB+x/mogNbr/5pv1mL2LdS2ecYbPP/eMfNq6wdCk89JDtbezYYRMPHT1qYyGdOtkeyKFD\ndrm0O++0sYw2baxLSsS6kurVg//+14rO11/bHsf8+TYNyOLFNs34sWM2mP7nP9sRWFOm2KnLUVHW\nhbZxo+31nHWWFb569WwAvgSMMRzOPFy8y+rYAbZ/v50TTU9wIOMAaVlp1ImsU7CXEVWP+Mh44mvG\nkxCZkLfv+TOQguiBQmam7VWUJBzHjsHKlSoIilL5GGNHOYWH257Fnj1WLFavtkJy4YV2hbk77rAL\nKj/5pB3VdPrp9tv/jBn2Pq1b217DHXdYwRk82A4X7tbNDhVu1Mj+54eH26+FkZH2Z61aVlAyMmyd\n1FTrcmrY0M4J2bvXxjjq1LH169SxQff69W0PJirKfp2sU8fGSrzgZM7JU9xXBzIOkJqZSurxVPvT\nc9/1M0zCThGJ+JoF992TCt2TDD23qPAojYuUE3UZKYo/Yox9gaem2hfyrl35PYS1a+2Q2ddes4Lw\n6KNWIMaMgQEDbC8kLMy+wN95x4rNihXQrBkcOWJ7IBERVoiKQsS2X62a3cLD7ZaVZXsRzZpZoWrS\npODWqJEVkBo1yj1cxhjD8ezjp4iE58+U4ykcPXGUtKy0vO1I1pG8/azsLGJrxJ4iFHE14oiLKKKs\n0Oa+NhRnsKsgKH5FwLmM/IncXLtlZNjhLbGxdtRT16523Yu4OLu98IJ1N+3fb11V55xjexX79lm/\nQXi49TEUXsjIC5KBRPfBWWfZuEiHDlZATj8dTjvN2lWJZOdmczSroGCUuJ1I40jmkQIiczTrKEdP\nHCWyemQBcYmNKCg0nscl1QuUXosKguJXqCBUEe6X/aFD9uVfrZodKfX779Y9lJJi4xRr19qewfHj\ntm5amt3Pzi7ytsl4CEJpREXZeEe3bnYex5ln2l5G3bp+kYTQGEPGyYwC4lK4Z1LcucL1MrMz80Si\nogJTmTPdVRAURSmdEyescGRkWLHYt8/O1di71warf/jBCoqvqVvXzs847zwbcznjDNvT8BPR8Jbs\n3GzST6SXKCIFzp1IO6WXc/TEUY5kHkFEihWOuIjihcTTFRZbI5bYiFjCqxVcgEoFQVEU3+MWjj/+\nyB/SsnOnHS31/fd2KK4viY+3cZWOHW2aE7dw1KsXdClRs7KzTnFvFRaOAudOpJ3iCnPvh1cLzxOI\nBtEN+ObWb1QQFP9BXUaBTbmfX2Zm/iIMe/bYbf9+Kxx//GF7IPv2+dxeYmLsRL927ayItGhhc3g1\nbpyfzc7LUVWBhjGGzOzMPBE5dvIYnRp2qpAgVPmqrSLSD3gOCANeN8Y8XdU2KJXHunXrVBACmHI/\nv5o1bcD5tNNsLMFbjLHDZo8ft2KSkmJdWXv22B7JL7/YWMivv9qeSmHS020m3XXrSm8rPNyO3KpV\nywbG4+KsaERG2pFVERFWQNz74eF2PzzcTgx0b2FhdqtWreifZSlzjzwr6mcp5yQsjEgRIsOq00AS\noEZd73/vxVClgiAiYcC/gEuAvcAaEZljjPmpKu1QKo/Dhw87bYJSAar8+YnYl29EhH1RN21qJ/hV\nBLfIHDuWn4zof/+zM82rVbMB9ZMn7cs9M9OKUVaWjbMcO2b33UvNZWXZ+u5rcnLs5h4R5t4va5n7\npzF2c+8X/lmWc0WkQinH785U2Qb0AOZ7HCcBo4qoZ5xm+fLlfnG/slznTd2S6hR3rizl48aNK9WG\nqsAfnl9VPruSzgfa8/OHZ1fW6yrrf6+4c8XVd707y/2Oruowf2Ngl8fxbleZ35GcnOwX9yvLdd7U\nLalOcefKUv7bb7+VakNV4A/PryqfXUnnA+35+cOzK+t1lfW/V9w5X/+O3FRpUFlErgf6GmNudx0P\nBbobY+4tVE8jyoqiKOXABFBQeQ9wusdxE1dZASrygRRFUZTyUdUuozVAKxFpJiIRwCBgbhXboCiK\nohRBlfYQjDE5InI3sIj8YaeVMD1SURRFKSt+OTFNURRFqXoCJ5mIoiiKUqmoICiKoiiAA6kryoOI\nRAHTgCzgS2PMbIdNUsqAiLQAHgXijDE3Om2P4j0iMgC4EogF3jDGLHbYJKUMiMiZwH1AHWCZMebf\nJdYPhBiCa75CqjHmcxF51xgzyGmblLIjIu+rIAQmIlIbmGKMuc1pW5SyI3Z1n1nGmJtLqueIy0hE\nXheR/SKyoVB5PxH5SUS2i8goj1NNyJ/hnFNlhipFUo7np/gJFXh2jwEvVY2VSnGU5/mJyNXAZ8AX\npd3fqRjCDKCvZ4FH4ru+QHvgJld3B6wYNHFXrSojlWIp6/PLq1Y15iklUOZnJyKTgS+MMV6kFFUq\nmTI/P2PMPGPMlcDQ0m7uiCAYY1YBqYWKuwM7jDE7jTEngXeBAa5znwADReQlYF7VWaoURVmfn4gk\niMjLQGftOThLOZ7dPdjsxANF5PYqNVY5hXI8v4tE5HkR+TfweWn396egclGJ77oDGGOOAX9xwijF\na0p6finAnU4YpXhFSc/uReBFJ4xSvKak5/cl8KW3N9Jhp4qiKArgX4LgVeI7xW/R5xe46LMLbHz2\n/JwUBKFgkFET3wUW+vwCF312gU2lPT+nhp3OBr4G2ojI7yIywhiTA9yDTXy3GXhXE9/5J/r8Ahd9\ndo0UZloAAABMSURBVIFNZT+/gJiYpiiKolQ+/hRDUBRFURxEBUFRFEUBVBAURVEUFyoIiqIoCqCC\noCiKorhQQVAURVEAFQRFURTFhQqCoiiKAsD/AxuXazEkieRZAAAAAElFTkSuQmCC\n",
      "text/plain": [
       "<matplotlib.figure.Figure at 0x1f4538f4cf8>"
>>>>>>> 11247a98b0ff85de5a589a23e4e0f44c7b49e901
=======
      "image/png": "iVBORw0KGgoAAAANSUhEUgAAAYQAAAEECAYAAAAoDUMLAAAABHNCSVQICAgIfAhkiAAAAAlwSFlz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\nBAEQhSAIgiAkIgpBEARBAOD/AYqgqgLzbOKwAAAAAElFTkSuQmCC\n",
      "text/plain": [
       "<matplotlib.figure.Figure at 0x21d7ca6e5c0>"
>>>>>>> acd1dc85b4b5b5246dbd4bc5ceb4e91f4df892f9
      ]
     },
     "metadata": {},
     "output_type": "display_data"
    }
   ],
   "source": [
    "# Learning rate values to test\n",
    "lr_test = [1e-5,1e-4,1e-3]\n",
    "ntest = len(lr_test)\n",
    "\n",
    "# Strings for the legend\n",
    "leg_str = []\n",
    "\n",
    "for i, lr in enumerate(lr_test):\n",
    "    # Run the optimizer\n",
    "    w, f0, hist = grad_opt_simp(feval, winit, lr=lr, nit=nit)    \n",
    "    \n",
    "    # Plot the results\n",
    "    plt.semilogx(t, hist['f'])\n",
    "    leg_str.append(\"lr=%12.2e\" % lr)\n",
    "    \n",
    "    # Measure the test accuracy\n",
    "    yhat = predict(Xts,w)\n",
    "    acc = np.mean(yhat == yts)\n",
    "    print(\"lr=%12.2e  Test accuracy = %f\" % (lr, acc))\n",
    "    \n",
    "plt.grid()\n",
    "plt.legend(leg_str, loc='upper right')"
   ]
  },
  {
   "cell_type": "markdown",
   "metadata": {},
   "source": [
    "We see that increasing the learning rate, speeds the convergence time, but the optimization is beginning to go unstable."
   ]
  },
  {
   "cell_type": "markdown",
   "metadata": {},
   "source": [
    "## Adaptive Step Size\n",
    "\n",
    "The above example shows that gradient descent is sensitive to the step size.  We now consider a slight variant of gradient descent with an adaptive step-size using the Armijo rule in class."
   ]
  },
  {
   "cell_type": "code",
   "execution_count": null,
<<<<<<< HEAD
   "metadata": {},
=======
   "metadata": {
    "collapsed": true
   },
>>>>>>> 11247a98b0ff85de5a589a23e4e0f44c7b49e901
   "outputs": [],
   "source": []
  },
  {
   "cell_type": "code",
<<<<<<< HEAD
<<<<<<< HEAD
   "execution_count": 12,
   "metadata": {},
=======
   "execution_count": 30,
=======
   "execution_count": 14,
>>>>>>> acd1dc85b4b5b5246dbd4bc5ceb4e91f4df892f9
   "metadata": {
    "collapsed": true
   },
>>>>>>> 11247a98b0ff85de5a589a23e4e0f44c7b49e901
   "outputs": [],
   "source": [
    "def grad_opt_adapt(feval, winit, nit=1000, lr_init=1e-3):\n",
    "    \"\"\"\n",
    "    Gradient descent optimization with adaptive step size\n",
    "    \n",
    "    feval:  A function that returns f, fgrad, the objective\n",
    "            function and its gradient\n",
    "    winit:  Initial estimate\n",
    "    nit:    Number of iterations\n",
    "    lr:     Initial learning rate\n",
    "    \"\"\"\n",
    "    \n",
    "    # Set initial point\n",
    "    w0 = winit\n",
    "    f0, fgrad0 = feval(w0)\n",
    "    lr = lr_init\n",
    "    \n",
    "    # Create history dictionary for tracking progress per iteration.\n",
    "    # This isn't necessary if you just want the final answer, but it \n",
    "    # is useful for debugging\n",
    "    hist = {'lr': [], 'w': [], 'f': []}\n",
    "\n",
    "    for it in range(nit):\n",
    "\n",
    "        # Take a gradient step\n",
    "        w1 = w0 - lr*fgrad0\n",
    "\n",
    "        # Evaluate the test point by computing the objective function, f1,\n",
    "        # at the test point and the predicted decrease, df_est\n",
    "        f1, fgrad1 = feval(w1)\n",
    "        df_est = fgrad0.dot(w1-w0)\n",
    "        \n",
    "        # Check if test point passes the Armijo condition\n",
    "        alpha = 0.5\n",
    "        if (f1-f0 < alpha*df_est) and (f1 < f0):\n",
    "            # If descent is sufficient, accept the point and increase the\n",
    "            # learning rate\n",
    "            lr = lr*2\n",
    "            f0 = f1\n",
    "            fgrad0 = fgrad1\n",
    "            w0 = w1\n",
    "        else:\n",
    "            # Otherwise, decrease the learning rate\n",
    "            lr = lr/2            \n",
    "            \n",
    "        # Save history\n",
    "        hist['f'].append(f0)\n",
    "        hist['lr'].append(lr)\n",
    "        hist['w'].append(w0)\n",
    "\n",
    "    # Convert to numpy arrays\n",
    "    for elem in ('f', 'lr', 'w'):\n",
    "        hist[elem] = np.array(hist[elem])\n",
    "    return w0, f0, hist\n"
   ]
  },
  {
   "cell_type": "markdown",
   "metadata": {},
   "source": [
    "We can now run the new optimizer."
   ]
  },
  {
   "cell_type": "code",
<<<<<<< HEAD
<<<<<<< HEAD
   "execution_count": 13,
=======
   "execution_count": 31,
>>>>>>> 11247a98b0ff85de5a589a23e4e0f44c7b49e901
=======
   "execution_count": 15,
>>>>>>> acd1dc85b4b5b5246dbd4bc5ceb4e91f4df892f9
   "metadata": {},
   "outputs": [
    {
     "data": {
      "image/png": "iVBORw0KGgoAAAANSUhEUgAAAagAAAEYCAYAAAAJeGK1AAAABHNCSVQICAgIfAhkiAAAAAlwSFlz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\n",
      "text/plain": [
<<<<<<< HEAD
<<<<<<< HEAD
       "<matplotlib.text.Text at 0x18f74b1aa58>"
      ]
     },
     "execution_count": 13,
=======
       "<matplotlib.text.Text at 0x1f453769390>"
      ]
     },
     "execution_count": 31,
>>>>>>> 11247a98b0ff85de5a589a23e4e0f44c7b49e901
     "metadata": {},
     "output_type": "execute_result"
    },
    {
     "data": {
<<<<<<< HEAD
      "image/png": "iVBORw0KGgoAAAANSUhEUgAAAZIAAAEOCAYAAACjJpHCAAAABHNCSVQICAgIfAhkiAAAAAlwSFlz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\nRK5CYII=\n",
      "text/plain": [
       "<matplotlib.figure.Figure at 0x18f74ab21d0>"
=======
      "image/png": "iVBORw0KGgoAAAANSUhEUgAAAZYAAAETCAYAAAAVhSD9AAAABHNCSVQICAgIfAhkiAAAAAlwSFlz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\nAElFTkSuQmCC\n",
      "text/plain": [
       "<matplotlib.figure.Figure at 0x1f4538c1e80>"
>>>>>>> 11247a98b0ff85de5a589a23e4e0f44c7b49e901
=======
       "<matplotlib.figure.Figure at 0x21d7ccd6d30>"
>>>>>>> acd1dc85b4b5b5246dbd4bc5ceb4e91f4df892f9
      ]
     },
     "metadata": {},
     "output_type": "display_data"
    }
   ],
   "source": [
    "winit = np.random.randn(p)\n",
    "nit = 1000\n",
    "w, f0, hist = grad_opt_adapt(feval, winit, nit=nit)\n",
    "\n",
    "t = np.arange(nit)\n",
    "plt.subplot(2,1,1)\n",
    "plt.semilogx(t, hist['f'])\n",
    "plt.grid()\n",
    "plt.ylabel('Loss')\n",
    "\n",
    "plt.subplot(2,1,2)\n",
    "plt.loglog(t, hist['lr'])\n",
    "plt.grid()\n",
    "plt.ylabel('Learning rate')\n",
    "plt.xlabel('Iteration')\n",
    "\n",
    "plt.tight_layout()"
   ]
  },
  {
   "cell_type": "markdown",
   "metadata": {},
   "source": [
    "Finally we measure the accuracy."
   ]
  },
  {
   "cell_type": "code",
<<<<<<< HEAD
<<<<<<< HEAD
   "execution_count": 14,
=======
   "execution_count": 32,
>>>>>>> 11247a98b0ff85de5a589a23e4e0f44c7b49e901
=======
   "execution_count": 16,
>>>>>>> acd1dc85b4b5b5246dbd4bc5ceb4e91f4df892f9
   "metadata": {},
   "outputs": [
    {
     "name": "stdout",
     "output_type": "stream",
     "text": [
      "Test accuracy = 0.989399\n"
     ]
    }
   ],
   "source": [
    "yhat = predict(Xts,w)\n",
    "acc = np.mean(yhat == yts)\n",
    "print(\"Test accuracy = %f\" % acc)"
   ]
  },
  {
   "cell_type": "markdown",
   "metadata": {},
   "source": [
    "## In-Class Exercise\n",
    "\n",
    "Try to a build a simple optimizer to minimize:\n",
    "\n",
    "    f(w) = a[0] + a[1]*w + a[2]*w^2 + ... + a[d]*w^d\n",
    "    \n",
    "for the coefficients `a = [0,0.5,-2,0,1]`.\n",
    "\n",
    "* Plot the function f(w)\n",
    "* Can you see where the minima is?\n",
    "* Write a function that outputs f(w) and its gradient.\n",
    "* Run the optimizer on the function to see if it finds the minima.\n",
    "* Print the funciton value and number of iterations.\n",
    "* Bonus:  Instead of writing the function for a specific coefficient vector `a`, create a class that works for an arbitrary vector `a`.\n",
    "\n",
    "You may wish to use the `poly.polyval(w,a)` method to evaluate the polynomial."
   ]
  },
  {
   "cell_type": "code",
<<<<<<< HEAD
<<<<<<< HEAD
   "execution_count": 23,
   "metadata": {},
   "outputs": [
    {
     "ename": "ValueError",
     "evalue": "shapes (400,10) and (100,) not aligned: 10 (dim 1) != 100 (dim 0)",
     "output_type": "error",
     "traceback": [
      "\u001b[1;31m---------------------------------------------------------------------------\u001b[0m",
      "\u001b[1;31mValueError\u001b[0m                                Traceback (most recent call last)",
      "\u001b[1;32m<ipython-input-23-ceadcf473b2b>\u001b[0m in \u001b[0;36m<module>\u001b[1;34m()\u001b[0m\n\u001b[0;32m     15\u001b[0m \u001b[1;33m\u001b[0m\u001b[0m\n\u001b[0;32m     16\u001b[0m \u001b[0mnit\u001b[0m \u001b[1;33m=\u001b[0m \u001b[1;36m100\u001b[0m\u001b[1;33m\u001b[0m\u001b[0m\n\u001b[1;32m---> 17\u001b[1;33m \u001b[0mw\u001b[0m\u001b[1;33m,\u001b[0m \u001b[0mhist\u001b[0m \u001b[1;33m=\u001b[0m \u001b[0mgrad_opt_adapt\u001b[0m\u001b[1;33m(\u001b[0m\u001b[0mfeval\u001b[0m\u001b[1;33m,\u001b[0m \u001b[0mw\u001b[0m\u001b[1;33m,\u001b[0m \u001b[0mnit\u001b[0m\u001b[1;33m=\u001b[0m\u001b[0mnit\u001b[0m\u001b[1;33m)\u001b[0m\u001b[1;33m\u001b[0m\u001b[0m\n\u001b[0m\u001b[0;32m     18\u001b[0m \u001b[1;33m\u001b[0m\u001b[0m\n\u001b[0;32m     19\u001b[0m \u001b[1;33m\u001b[0m\u001b[0m\n",
      "\u001b[1;32m<ipython-input-12-a9a90126a1b4>\u001b[0m in \u001b[0;36mgrad_opt_adapt\u001b[1;34m(feval, winit, nit, lr_init)\u001b[0m\n\u001b[0;32m     12\u001b[0m     \u001b[1;31m# Set initial point\u001b[0m\u001b[1;33m\u001b[0m\u001b[1;33m\u001b[0m\u001b[0m\n\u001b[0;32m     13\u001b[0m     \u001b[0mw0\u001b[0m \u001b[1;33m=\u001b[0m \u001b[0mwinit\u001b[0m\u001b[1;33m\u001b[0m\u001b[0m\n\u001b[1;32m---> 14\u001b[1;33m     \u001b[0mf0\u001b[0m\u001b[1;33m,\u001b[0m \u001b[0mfgrad0\u001b[0m \u001b[1;33m=\u001b[0m \u001b[0mfeval\u001b[0m\u001b[1;33m(\u001b[0m\u001b[0mw0\u001b[0m\u001b[1;33m)\u001b[0m\u001b[1;33m\u001b[0m\u001b[0m\n\u001b[0m\u001b[0;32m     15\u001b[0m     \u001b[0mlr\u001b[0m \u001b[1;33m=\u001b[0m \u001b[0mlr_init\u001b[0m\u001b[1;33m\u001b[0m\u001b[0m\n\u001b[0;32m     16\u001b[0m \u001b[1;33m\u001b[0m\u001b[0m\n",
      "\u001b[1;32m<ipython-input-5-a85e20fc6b41>\u001b[0m in \u001b[0;36mfeval\u001b[1;34m(self, w)\u001b[0m\n\u001b[0;32m     16\u001b[0m         \"\"\"\n\u001b[0;32m     17\u001b[0m         \u001b[1;31m# The loss is the binary cross entropy\u001b[0m\u001b[1;33m\u001b[0m\u001b[1;33m\u001b[0m\u001b[0m\n\u001b[1;32m---> 18\u001b[1;33m         \u001b[0mz\u001b[0m \u001b[1;33m=\u001b[0m \u001b[0mself\u001b[0m\u001b[1;33m.\u001b[0m\u001b[0mA\u001b[0m\u001b[1;33m.\u001b[0m\u001b[0mdot\u001b[0m\u001b[1;33m(\u001b[0m\u001b[0mw\u001b[0m\u001b[1;33m)\u001b[0m\u001b[1;33m\u001b[0m\u001b[0m\n\u001b[0m\u001b[0;32m     19\u001b[0m         \u001b[0mpy\u001b[0m \u001b[1;33m=\u001b[0m \u001b[1;36m1\u001b[0m\u001b[1;33m/\u001b[0m\u001b[1;33m(\u001b[0m\u001b[1;36m1\u001b[0m\u001b[1;33m+\u001b[0m\u001b[0mnp\u001b[0m\u001b[1;33m.\u001b[0m\u001b[0mexp\u001b[0m\u001b[1;33m(\u001b[0m\u001b[1;33m-\u001b[0m\u001b[0mz\u001b[0m\u001b[1;33m)\u001b[0m\u001b[1;33m)\u001b[0m\u001b[1;33m\u001b[0m\u001b[0m\n\u001b[0;32m     20\u001b[0m         \u001b[0mf\u001b[0m \u001b[1;33m=\u001b[0m \u001b[0mnp\u001b[0m\u001b[1;33m.\u001b[0m\u001b[0msum\u001b[0m\u001b[1;33m(\u001b[0m\u001b[1;33m(\u001b[0m\u001b[1;36m1\u001b[0m\u001b[1;33m-\u001b[0m\u001b[0mself\u001b[0m\u001b[1;33m.\u001b[0m\u001b[0my\u001b[0m\u001b[1;33m)\u001b[0m\u001b[1;33m*\u001b[0m\u001b[0mz\u001b[0m \u001b[1;33m-\u001b[0m \u001b[0mnp\u001b[0m\u001b[1;33m.\u001b[0m\u001b[0mlog\u001b[0m\u001b[1;33m(\u001b[0m\u001b[0mpy\u001b[0m\u001b[1;33m)\u001b[0m\u001b[1;33m)\u001b[0m\u001b[1;33m\u001b[0m\u001b[0m\n",
      "\u001b[1;31mValueError\u001b[0m: shapes (400,10) and (100,) not aligned: 10 (dim 1) != 100 (dim 0)"
     ]
    },
    {
     "data": {
      "image/png": "iVBORw0KGgoAAAANSUhEUgAAAXYAAAD8CAYAAABjAo9vAAAABHNCSVQICAgIfAhkiAAAAAlwSFlz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\n",
      "text/plain": [
       "<matplotlib.figure.Figure at 0x18f7519c518>"
      ]
     },
     "metadata": {},
     "output_type": "display_data"
    }
   ],
=======
   "execution_count": 24,
=======
   "execution_count": 17,
>>>>>>> acd1dc85b4b5b5246dbd4bc5ceb4e91f4df892f9
   "metadata": {
    "collapsed": true
   },
   "outputs": [],
>>>>>>> 11247a98b0ff85de5a589a23e4e0f44c7b49e901
   "source": [
    "import numpy.polynomial.polynomial as poly\n",
    "\n",
    "a = [0,0.5,-2,0,1]\n",
    "w = np.linspace(-2,2,100)\n",
    "\n",
    "y0 = poly.polyval(w,a)\n",
    "\n",
    "\n",
    "\n",
    "plt.plot(w,y0,\"b-\")\n",
    "plt.grid()\n",
    "\n",
    "\"\"\"\n",
    "    feval:  A function that returns f, fgrad, the objective\n",
    "            function and its gradient\n",
    "\"\"\"\n",
    "def fw_grad(w,a):\n",
    "    f = poly.polyval(w,a)\n",
    "    gradient = \n",
    "\n",
    "nit = 100\n",
    "w, hist = grad_opt_adapt(fw_grad, w, nit=nit)\n",
    "\n",
    "\n",
    "t = np.arange(nit)\n",
    "plt.subplot(2,1,1)\n",
    "plt.semilogx(t, hist['f'])\n",
    "plt.grid()\n",
    "plt.ylabel('Loss')\n",
    "\n",
    "plt.subplot(2,1,2)\n",
    "plt.semilogx(t, hist['lr'])\n",
    "plt.grid()\n",
    "plt.ylabel('Learning rate')\n",
    "plt.xlabel('Iteration')\n",
    "\n",
    "\n"
   ]
  },
  {
   "cell_type": "code",
   "execution_count": null,
   "metadata": {},
   "outputs": [],
   "source": []
  }
 ],
 "metadata": {
  "anaconda-cloud": {},
  "kernelspec": {
   "display_name": "Python 3",
   "language": "python",
   "name": "python3"
  },
  "language_info": {
   "codemirror_mode": {
    "name": "ipython",
    "version": 3
   },
   "file_extension": ".py",
   "mimetype": "text/x-python",
   "name": "python",
   "nbconvert_exporter": "python",
   "pygments_lexer": "ipython3",
<<<<<<< HEAD
   "version": "3.6.2"
=======
   "version": "3.5.4"
>>>>>>> 11247a98b0ff85de5a589a23e4e0f44c7b49e901
  }
 },
 "nbformat": 4,
 "nbformat_minor": 1
}
